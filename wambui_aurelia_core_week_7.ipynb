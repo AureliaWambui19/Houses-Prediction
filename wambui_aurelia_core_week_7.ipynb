{
  "nbformat": 4,
  "nbformat_minor": 0,
  "metadata": {
    "colab": {
      "name": "wambui aurelia core week 7.ipynb",
      "provenance": [],
      "collapsed_sections": [],
      "include_colab_link": true
    },
    "kernelspec": {
      "name": "python3",
      "display_name": "Python 3"
    }
  },
  "cells": [
    {
      "cell_type": "markdown",
      "metadata": {
        "id": "view-in-github",
        "colab_type": "text"
      },
      "source": [
        "<a href=\"https://colab.research.google.com/github/AureliaWambui19/Houses-Prediction/blob/main/wambui_aurelia_core_week_7.ipynb\" target=\"_parent\"><img src=\"https://colab.research.google.com/assets/colab-badge.svg\" alt=\"Open In Colab\"/></a>"
      ]
    },
    {
      "cell_type": "markdown",
      "metadata": {
        "id": "9gDnSTjllFgF"
      },
      "source": [
        "# 1.Introduction"
      ]
    },
    {
      "cell_type": "markdown",
      "metadata": {
        "id": "ETOLdG5alAbp"
      },
      "source": [
        "> \n",
        "Am a Data Scientist working for Hass Consulting Company which is a real estate leader with over 25 years of experience. I have been tasked to study the factors that affect housing prices using the given information on real estate properties that was collected over the past few months. Later onwards, create a model that would allow the company to accurately predict the sale of prices upon being provided with the predictor variables. \n"
      ]
    },
    {
      "cell_type": "markdown",
      "metadata": {
        "id": "yvhmCuCXYzk5"
      },
      "source": [
        "## 1.2Metrics for success"
      ]
    },
    {
      "cell_type": "markdown",
      "metadata": {
        "id": "WgVR7wgsY8Rf"
      },
      "source": [
        "Successfully building 5 models\n",
        "Selecting the most effective of the model to help in price prediction"
      ]
    },
    {
      "cell_type": "markdown",
      "metadata": {
        "id": "LN0hV1bmZb3O"
      },
      "source": [
        "## 1.3Context"
      ]
    },
    {
      "cell_type": "markdown",
      "metadata": {
        "id": "b0Zcy7yxZyF3"
      },
      "source": [
        "Dataset\n",
        "\n",
        "The dataset to use for this project can be found by following this link: [http://bit.ly/IndependentProjectWeek7Dataset (Links to an external site.)]. \n",
        "\n",
        "Below is the dataset glossary:\n",
        "\n",
        "Id \n",
        "price  - Price of the house\n",
        "\n",
        "bedrooms - Number of Bedrooms\n",
        "\n",
        "bathrooms - Number of Bathrooms\n",
        "\n",
        "sqft_living - Square feet area of living area\n",
        "\n",
        "sqft_lot  - Square feet area of parking Layout\n",
        "\n",
        "floors - Number of Floors\n",
        "\n",
        "waterfront - Whether waterfront is there or not\n",
        "\n",
        "view - Number of Views\n",
        "\n",
        "grade - Grades\n",
        "\n",
        "sqft_above\n",
        "\n",
        "sqft_basement - Square feet area off basement\n",
        "\n",
        "yr_built - Year the house is built\n",
        "\n",
        "yr_renovated - Year the house is renovated\n",
        "\n",
        "zipcode - zipcode os the house\n",
        "\n",
        "lat : Latitude of the house\n",
        "\n",
        "lon : Longitude of the house\n",
        "\n",
        "sqft_living15\n",
        "\n",
        "sqft_lot15"
      ]
    },
    {
      "cell_type": "markdown",
      "metadata": {
        "id": "-R_ms7p4Z-wj"
      },
      "source": [
        "## 1.4 Experimental design"
      ]
    },
    {
      "cell_type": "markdown",
      "metadata": {
        "id": "JiqlHx9YagWf"
      },
      "source": [
        "Define the question, the metric for success, the context, experimental design taken.\n",
        "Read and explore the given dataset.\n",
        "\n",
        "Define the appropriateness of the available data to answer the given question.\n",
        "\n",
        "Find and deal with outliers, anomalies, and missing data within the dataset.\n",
        "\n",
        "Perform univariate, bivariate and multivariate analysis recording your observations.\n",
        "\n",
        "Performing regression analysis.\n",
        "\n",
        "Check for multicollinearity\n",
        "\n",
        "Provide a recommendation based on your analysis. \n",
        "\n",
        "Create residual plots for your models, and assess heteroskedasticity using Barlett's test.\n",
        "\n",
        "Challenge your solution by providing insights on how you can make improvements in model improvement."
      ]
    },
    {
      "cell_type": "markdown",
      "metadata": {
        "id": "WsesswZTbNN0"
      },
      "source": [
        "## 1.5 Appropriatness of data"
      ]
    },
    {
      "cell_type": "markdown",
      "metadata": {
        "id": "a_kgcfJxbYlM"
      },
      "source": [
        "The data provided is appropriate as it details information relevant to the above question for this project"
      ]
    },
    {
      "cell_type": "markdown",
      "metadata": {
        "id": "Xoi_HTeZcEI0"
      },
      "source": [
        "# 2.Data Undertanding"
      ]
    },
    {
      "cell_type": "markdown",
      "metadata": {
        "id": "mrCCiSXycSSv"
      },
      "source": [
        "## 2.1Importing libraries"
      ]
    },
    {
      "cell_type": "code",
      "metadata": {
        "id": "l7Tw9meTTSRm"
      },
      "source": [
        "import pandas as pd\n",
        "import numpy as np\n",
        "import seaborn as sns\n",
        "import matplotlib.pyplot as plt\n",
        "from sklearn.model_selection import train_test_split\n",
        "from sklearn.linear_model import LinearRegression\n",
        "from sklearn.preprocessing import StandardScaler\n",
        "from sklearn.metrics import mean_squared_error,  r2_score \n",
        "from sklearn import metrics\n",
        "import scipy as sp\n",
        "from sklearn.linear_model import Ridge, Lasso, ElasticNet\n",
        "\n",
        "import statsmodels.formula.api as smf"
      ],
      "execution_count": 4,
      "outputs": []
    },
    {
      "cell_type": "markdown",
      "metadata": {
        "id": "oLycd9c5UPqq"
      },
      "source": [
        "## 2.2 Load the dataset"
      ]
    },
    {
      "cell_type": "code",
      "metadata": {
        "id": "NLIn855FTS9G"
      },
      "source": [
        "home= pd.read_csv('house.csv')"
      ],
      "execution_count": 7,
      "outputs": []
    },
    {
      "cell_type": "markdown",
      "metadata": {
        "id": "okLDlmDHVQbN"
      },
      "source": [
        "## 2.3Checking the Data"
      ]
    },
    {
      "cell_type": "code",
      "metadata": {
        "id": "DGK-yO_ln2Bc",
        "colab": {
          "base_uri": "https://localhost:8080/"
        },
        "outputId": "cf4ed0d8-98a2-43bb-8ead-8ca81119f4f7"
      },
      "source": [
        "# Determining number of records in the dataset\n",
        "rows = home.shape[0]\n",
        "columns = home.shape[1]\n",
        "print(f'{rows} rows \\n {columns} columns')"
      ],
      "execution_count": 8,
      "outputs": [
        {
          "output_type": "stream",
          "text": [
            "21613 rows \n",
            " 20 columns\n"
          ],
          "name": "stdout"
        }
      ]
    },
    {
      "cell_type": "code",
      "metadata": {
        "id": "hrJ_b6qFTTOs",
        "colab": {
          "base_uri": "https://localhost:8080/",
          "height": 215
        },
        "outputId": "c029ba79-cfbf-474a-9ed9-1fdf9c7dac6c"
      },
      "source": [
        "#Previewing the head of the dataset\n",
        "home.head()"
      ],
      "execution_count": 10,
      "outputs": [
        {
          "output_type": "execute_result",
          "data": {
            "text/html": [
              "<div>\n",
              "<style scoped>\n",
              "    .dataframe tbody tr th:only-of-type {\n",
              "        vertical-align: middle;\n",
              "    }\n",
              "\n",
              "    .dataframe tbody tr th {\n",
              "        vertical-align: top;\n",
              "    }\n",
              "\n",
              "    .dataframe thead th {\n",
              "        text-align: right;\n",
              "    }\n",
              "</style>\n",
              "<table border=\"1\" class=\"dataframe\">\n",
              "  <thead>\n",
              "    <tr style=\"text-align: right;\">\n",
              "      <th></th>\n",
              "      <th>id</th>\n",
              "      <th>price</th>\n",
              "      <th>bedrooms</th>\n",
              "      <th>bathrooms</th>\n",
              "      <th>sqft_living</th>\n",
              "      <th>sqft_lot</th>\n",
              "      <th>floors</th>\n",
              "      <th>waterfront</th>\n",
              "      <th>view</th>\n",
              "      <th>condition</th>\n",
              "      <th>grade</th>\n",
              "      <th>sqft_above</th>\n",
              "      <th>sqft_basement</th>\n",
              "      <th>yr_built</th>\n",
              "      <th>yr_renovated</th>\n",
              "      <th>zipcode</th>\n",
              "      <th>lat</th>\n",
              "      <th>long</th>\n",
              "      <th>sqft_living15</th>\n",
              "      <th>sqft_lot15</th>\n",
              "    </tr>\n",
              "  </thead>\n",
              "  <tbody>\n",
              "    <tr>\n",
              "      <th>0</th>\n",
              "      <td>7129300520</td>\n",
              "      <td>221900.0</td>\n",
              "      <td>3</td>\n",
              "      <td>1.00</td>\n",
              "      <td>1180</td>\n",
              "      <td>5650</td>\n",
              "      <td>1.0</td>\n",
              "      <td>0</td>\n",
              "      <td>0</td>\n",
              "      <td>3</td>\n",
              "      <td>7</td>\n",
              "      <td>1180</td>\n",
              "      <td>0</td>\n",
              "      <td>1955</td>\n",
              "      <td>0</td>\n",
              "      <td>98178</td>\n",
              "      <td>47.5112</td>\n",
              "      <td>-122.257</td>\n",
              "      <td>1340</td>\n",
              "      <td>5650</td>\n",
              "    </tr>\n",
              "    <tr>\n",
              "      <th>1</th>\n",
              "      <td>6414100192</td>\n",
              "      <td>538000.0</td>\n",
              "      <td>3</td>\n",
              "      <td>2.25</td>\n",
              "      <td>2570</td>\n",
              "      <td>7242</td>\n",
              "      <td>2.0</td>\n",
              "      <td>0</td>\n",
              "      <td>0</td>\n",
              "      <td>3</td>\n",
              "      <td>7</td>\n",
              "      <td>2170</td>\n",
              "      <td>400</td>\n",
              "      <td>1951</td>\n",
              "      <td>1991</td>\n",
              "      <td>98125</td>\n",
              "      <td>47.7210</td>\n",
              "      <td>-122.319</td>\n",
              "      <td>1690</td>\n",
              "      <td>7639</td>\n",
              "    </tr>\n",
              "    <tr>\n",
              "      <th>2</th>\n",
              "      <td>5631500400</td>\n",
              "      <td>180000.0</td>\n",
              "      <td>2</td>\n",
              "      <td>1.00</td>\n",
              "      <td>770</td>\n",
              "      <td>10000</td>\n",
              "      <td>1.0</td>\n",
              "      <td>0</td>\n",
              "      <td>0</td>\n",
              "      <td>3</td>\n",
              "      <td>6</td>\n",
              "      <td>770</td>\n",
              "      <td>0</td>\n",
              "      <td>1933</td>\n",
              "      <td>0</td>\n",
              "      <td>98028</td>\n",
              "      <td>47.7379</td>\n",
              "      <td>-122.233</td>\n",
              "      <td>2720</td>\n",
              "      <td>8062</td>\n",
              "    </tr>\n",
              "    <tr>\n",
              "      <th>3</th>\n",
              "      <td>2487200875</td>\n",
              "      <td>604000.0</td>\n",
              "      <td>4</td>\n",
              "      <td>3.00</td>\n",
              "      <td>1960</td>\n",
              "      <td>5000</td>\n",
              "      <td>1.0</td>\n",
              "      <td>0</td>\n",
              "      <td>0</td>\n",
              "      <td>5</td>\n",
              "      <td>7</td>\n",
              "      <td>1050</td>\n",
              "      <td>910</td>\n",
              "      <td>1965</td>\n",
              "      <td>0</td>\n",
              "      <td>98136</td>\n",
              "      <td>47.5208</td>\n",
              "      <td>-122.393</td>\n",
              "      <td>1360</td>\n",
              "      <td>5000</td>\n",
              "    </tr>\n",
              "    <tr>\n",
              "      <th>4</th>\n",
              "      <td>1954400510</td>\n",
              "      <td>510000.0</td>\n",
              "      <td>3</td>\n",
              "      <td>2.00</td>\n",
              "      <td>1680</td>\n",
              "      <td>8080</td>\n",
              "      <td>1.0</td>\n",
              "      <td>0</td>\n",
              "      <td>0</td>\n",
              "      <td>3</td>\n",
              "      <td>8</td>\n",
              "      <td>1680</td>\n",
              "      <td>0</td>\n",
              "      <td>1987</td>\n",
              "      <td>0</td>\n",
              "      <td>98074</td>\n",
              "      <td>47.6168</td>\n",
              "      <td>-122.045</td>\n",
              "      <td>1800</td>\n",
              "      <td>7503</td>\n",
              "    </tr>\n",
              "  </tbody>\n",
              "</table>\n",
              "</div>"
            ],
            "text/plain": [
              "           id     price  bedrooms  ...     long  sqft_living15  sqft_lot15\n",
              "0  7129300520  221900.0         3  ... -122.257           1340        5650\n",
              "1  6414100192  538000.0         3  ... -122.319           1690        7639\n",
              "2  5631500400  180000.0         2  ... -122.233           2720        8062\n",
              "3  2487200875  604000.0         4  ... -122.393           1360        5000\n",
              "4  1954400510  510000.0         3  ... -122.045           1800        7503\n",
              "\n",
              "[5 rows x 20 columns]"
            ]
          },
          "metadata": {
            "tags": []
          },
          "execution_count": 10
        }
      ]
    },
    {
      "cell_type": "code",
      "metadata": {
        "id": "D4ZW6bw6TSxT",
        "colab": {
          "base_uri": "https://localhost:8080/",
          "height": 224
        },
        "outputId": "9e6f9c28-10de-4ddf-f34c-962084ef9d72"
      },
      "source": [
        "#Previewing the tail of the dataset\n",
        "home.tail()"
      ],
      "execution_count": null,
      "outputs": [
        {
          "output_type": "execute_result",
          "data": {
            "text/html": [
              "<div>\n",
              "<style scoped>\n",
              "    .dataframe tbody tr th:only-of-type {\n",
              "        vertical-align: middle;\n",
              "    }\n",
              "\n",
              "    .dataframe tbody tr th {\n",
              "        vertical-align: top;\n",
              "    }\n",
              "\n",
              "    .dataframe thead th {\n",
              "        text-align: right;\n",
              "    }\n",
              "</style>\n",
              "<table border=\"1\" class=\"dataframe\">\n",
              "  <thead>\n",
              "    <tr style=\"text-align: right;\">\n",
              "      <th></th>\n",
              "      <th>id</th>\n",
              "      <th>price</th>\n",
              "      <th>bedrooms</th>\n",
              "      <th>bathrooms</th>\n",
              "      <th>sqft_living</th>\n",
              "      <th>sqft_lot</th>\n",
              "      <th>floors</th>\n",
              "      <th>waterfront</th>\n",
              "      <th>view</th>\n",
              "      <th>condition</th>\n",
              "      <th>grade</th>\n",
              "      <th>sqft_above</th>\n",
              "      <th>sqft_basement</th>\n",
              "      <th>yr_built</th>\n",
              "      <th>yr_renovated</th>\n",
              "      <th>zipcode</th>\n",
              "      <th>lat</th>\n",
              "      <th>long</th>\n",
              "      <th>sqft_living15</th>\n",
              "      <th>sqft_lot15</th>\n",
              "    </tr>\n",
              "  </thead>\n",
              "  <tbody>\n",
              "    <tr>\n",
              "      <th>21608</th>\n",
              "      <td>263000018</td>\n",
              "      <td>360000.0</td>\n",
              "      <td>3</td>\n",
              "      <td>2.50</td>\n",
              "      <td>1530</td>\n",
              "      <td>1131</td>\n",
              "      <td>3.0</td>\n",
              "      <td>0</td>\n",
              "      <td>0</td>\n",
              "      <td>3</td>\n",
              "      <td>8</td>\n",
              "      <td>1530</td>\n",
              "      <td>0</td>\n",
              "      <td>2009</td>\n",
              "      <td>0</td>\n",
              "      <td>98103</td>\n",
              "      <td>47.6993</td>\n",
              "      <td>-122.346</td>\n",
              "      <td>1530</td>\n",
              "      <td>1509</td>\n",
              "    </tr>\n",
              "    <tr>\n",
              "      <th>21609</th>\n",
              "      <td>6600060120</td>\n",
              "      <td>400000.0</td>\n",
              "      <td>4</td>\n",
              "      <td>2.50</td>\n",
              "      <td>2310</td>\n",
              "      <td>5813</td>\n",
              "      <td>2.0</td>\n",
              "      <td>0</td>\n",
              "      <td>0</td>\n",
              "      <td>3</td>\n",
              "      <td>8</td>\n",
              "      <td>2310</td>\n",
              "      <td>0</td>\n",
              "      <td>2014</td>\n",
              "      <td>0</td>\n",
              "      <td>98146</td>\n",
              "      <td>47.5107</td>\n",
              "      <td>-122.362</td>\n",
              "      <td>1830</td>\n",
              "      <td>7200</td>\n",
              "    </tr>\n",
              "    <tr>\n",
              "      <th>21610</th>\n",
              "      <td>1523300141</td>\n",
              "      <td>402101.0</td>\n",
              "      <td>2</td>\n",
              "      <td>0.75</td>\n",
              "      <td>1020</td>\n",
              "      <td>1350</td>\n",
              "      <td>2.0</td>\n",
              "      <td>0</td>\n",
              "      <td>0</td>\n",
              "      <td>3</td>\n",
              "      <td>7</td>\n",
              "      <td>1020</td>\n",
              "      <td>0</td>\n",
              "      <td>2009</td>\n",
              "      <td>0</td>\n",
              "      <td>98144</td>\n",
              "      <td>47.5944</td>\n",
              "      <td>-122.299</td>\n",
              "      <td>1020</td>\n",
              "      <td>2007</td>\n",
              "    </tr>\n",
              "    <tr>\n",
              "      <th>21611</th>\n",
              "      <td>291310100</td>\n",
              "      <td>400000.0</td>\n",
              "      <td>3</td>\n",
              "      <td>2.50</td>\n",
              "      <td>1600</td>\n",
              "      <td>2388</td>\n",
              "      <td>2.0</td>\n",
              "      <td>0</td>\n",
              "      <td>0</td>\n",
              "      <td>3</td>\n",
              "      <td>8</td>\n",
              "      <td>1600</td>\n",
              "      <td>0</td>\n",
              "      <td>2004</td>\n",
              "      <td>0</td>\n",
              "      <td>98027</td>\n",
              "      <td>47.5345</td>\n",
              "      <td>-122.069</td>\n",
              "      <td>1410</td>\n",
              "      <td>1287</td>\n",
              "    </tr>\n",
              "    <tr>\n",
              "      <th>21612</th>\n",
              "      <td>1523300157</td>\n",
              "      <td>325000.0</td>\n",
              "      <td>2</td>\n",
              "      <td>0.75</td>\n",
              "      <td>1020</td>\n",
              "      <td>1076</td>\n",
              "      <td>2.0</td>\n",
              "      <td>0</td>\n",
              "      <td>0</td>\n",
              "      <td>3</td>\n",
              "      <td>7</td>\n",
              "      <td>1020</td>\n",
              "      <td>0</td>\n",
              "      <td>2008</td>\n",
              "      <td>0</td>\n",
              "      <td>98144</td>\n",
              "      <td>47.5941</td>\n",
              "      <td>-122.299</td>\n",
              "      <td>1020</td>\n",
              "      <td>1357</td>\n",
              "    </tr>\n",
              "  </tbody>\n",
              "</table>\n",
              "</div>"
            ],
            "text/plain": [
              "               id     price  bedrooms  ...     long  sqft_living15  sqft_lot15\n",
              "21608   263000018  360000.0         3  ... -122.346           1530        1509\n",
              "21609  6600060120  400000.0         4  ... -122.362           1830        7200\n",
              "21610  1523300141  402101.0         2  ... -122.299           1020        2007\n",
              "21611   291310100  400000.0         3  ... -122.069           1410        1287\n",
              "21612  1523300157  325000.0         2  ... -122.299           1020        1357\n",
              "\n",
              "[5 rows x 20 columns]"
            ]
          },
          "metadata": {
            "tags": []
          },
          "execution_count": 188
        }
      ]
    },
    {
      "cell_type": "code",
      "metadata": {
        "id": "7qVQS3c0c90e",
        "colab": {
          "base_uri": "https://localhost:8080/"
        },
        "outputId": "ccddb286-2fa7-4341-e431-0e04dc642cfd"
      },
      "source": [
        "# Checking dataset information\n",
        "home.info()"
      ],
      "execution_count": 11,
      "outputs": [
        {
          "output_type": "stream",
          "text": [
            "<class 'pandas.core.frame.DataFrame'>\n",
            "RangeIndex: 21613 entries, 0 to 21612\n",
            "Data columns (total 20 columns):\n",
            " #   Column         Non-Null Count  Dtype  \n",
            "---  ------         --------------  -----  \n",
            " 0   id             21613 non-null  int64  \n",
            " 1   price          21613 non-null  float64\n",
            " 2   bedrooms       21613 non-null  int64  \n",
            " 3   bathrooms      21613 non-null  float64\n",
            " 4   sqft_living    21613 non-null  int64  \n",
            " 5   sqft_lot       21613 non-null  int64  \n",
            " 6   floors         21613 non-null  float64\n",
            " 7   waterfront     21613 non-null  int64  \n",
            " 8   view           21613 non-null  int64  \n",
            " 9   condition      21613 non-null  int64  \n",
            " 10  grade          21613 non-null  int64  \n",
            " 11  sqft_above     21613 non-null  int64  \n",
            " 12  sqft_basement  21613 non-null  int64  \n",
            " 13  yr_built       21613 non-null  int64  \n",
            " 14  yr_renovated   21613 non-null  int64  \n",
            " 15  zipcode        21613 non-null  int64  \n",
            " 16  lat            21613 non-null  float64\n",
            " 17  long           21613 non-null  float64\n",
            " 18  sqft_living15  21613 non-null  int64  \n",
            " 19  sqft_lot15     21613 non-null  int64  \n",
            "dtypes: float64(5), int64(15)\n",
            "memory usage: 3.3 MB\n"
          ],
          "name": "stdout"
        }
      ]
    },
    {
      "cell_type": "code",
      "metadata": {
        "id": "qd37XPm4lymh",
        "colab": {
          "base_uri": "https://localhost:8080/"
        },
        "outputId": "b7000e00-fdc8-4c61-bcdf-68953f251a98"
      },
      "source": [
        "# Checking whether each column has an appropriate datatype\n",
        "home.dtypes"
      ],
      "execution_count": 12,
      "outputs": [
        {
          "output_type": "execute_result",
          "data": {
            "text/plain": [
              "id                 int64\n",
              "price            float64\n",
              "bedrooms           int64\n",
              "bathrooms        float64\n",
              "sqft_living        int64\n",
              "sqft_lot           int64\n",
              "floors           float64\n",
              "waterfront         int64\n",
              "view               int64\n",
              "condition          int64\n",
              "grade              int64\n",
              "sqft_above         int64\n",
              "sqft_basement      int64\n",
              "yr_built           int64\n",
              "yr_renovated       int64\n",
              "zipcode            int64\n",
              "lat              float64\n",
              "long             float64\n",
              "sqft_living15      int64\n",
              "sqft_lot15         int64\n",
              "dtype: object"
            ]
          },
          "metadata": {
            "tags": []
          },
          "execution_count": 12
        }
      ]
    },
    {
      "cell_type": "code",
      "metadata": {
        "id": "VkEPcHxycZYd",
        "colab": {
          "base_uri": "https://localhost:8080/"
        },
        "outputId": "d1776b8c-ba08-41b5-927e-fc1b240d3253"
      },
      "source": [
        "#Checking for Number of Unique Values in each column\n",
        "home.nunique()"
      ],
      "execution_count": 13,
      "outputs": [
        {
          "output_type": "execute_result",
          "data": {
            "text/plain": [
              "id               21436\n",
              "price             3625\n",
              "bedrooms            13\n",
              "bathrooms           30\n",
              "sqft_living       1038\n",
              "sqft_lot          9782\n",
              "floors               6\n",
              "waterfront           2\n",
              "view                 5\n",
              "condition            5\n",
              "grade               12\n",
              "sqft_above         946\n",
              "sqft_basement      306\n",
              "yr_built           116\n",
              "yr_renovated        70\n",
              "zipcode             70\n",
              "lat               5034\n",
              "long               752\n",
              "sqft_living15      777\n",
              "sqft_lot15        8689\n",
              "dtype: int64"
            ]
          },
          "metadata": {
            "tags": []
          },
          "execution_count": 13
        }
      ]
    },
    {
      "cell_type": "code",
      "metadata": {
        "id": "BA71OIcAl3LX",
        "colab": {
          "base_uri": "https://localhost:8080/"
        },
        "outputId": "d409f602-96b4-4e99-fd92-4180e9723b5d"
      },
      "source": [
        "# Checking the columns in the dataset\n",
        "home.columns"
      ],
      "execution_count": 14,
      "outputs": [
        {
          "output_type": "execute_result",
          "data": {
            "text/plain": [
              "Index(['id', 'price', 'bedrooms', 'bathrooms', 'sqft_living', 'sqft_lot',\n",
              "       'floors', 'waterfront', 'view', 'condition', 'grade', 'sqft_above',\n",
              "       'sqft_basement', 'yr_built', 'yr_renovated', 'zipcode', 'lat', 'long',\n",
              "       'sqft_living15', 'sqft_lot15'],\n",
              "      dtype='object')"
            ]
          },
          "metadata": {
            "tags": []
          },
          "execution_count": 14
        }
      ]
    },
    {
      "cell_type": "markdown",
      "metadata": {
        "id": "lKPQlHCY1LRD"
      },
      "source": [
        "#3 Data preparation"
      ]
    },
    {
      "cell_type": "markdown",
      "metadata": {
        "id": "-SIC3KcF5ecM"
      },
      "source": [
        "##3.1 Missing Values"
      ]
    },
    {
      "cell_type": "code",
      "metadata": {
        "id": "bnxL1qqZoRx3",
        "colab": {
          "base_uri": "https://localhost:8080/"
        },
        "outputId": "d7662c66-85f1-4522-ceb0-193787e6d99b"
      },
      "source": [
        "#Checking for null values\n",
        "home.isnull().sum()"
      ],
      "execution_count": 15,
      "outputs": [
        {
          "output_type": "execute_result",
          "data": {
            "text/plain": [
              "id               0\n",
              "price            0\n",
              "bedrooms         0\n",
              "bathrooms        0\n",
              "sqft_living      0\n",
              "sqft_lot         0\n",
              "floors           0\n",
              "waterfront       0\n",
              "view             0\n",
              "condition        0\n",
              "grade            0\n",
              "sqft_above       0\n",
              "sqft_basement    0\n",
              "yr_built         0\n",
              "yr_renovated     0\n",
              "zipcode          0\n",
              "lat              0\n",
              "long             0\n",
              "sqft_living15    0\n",
              "sqft_lot15       0\n",
              "dtype: int64"
            ]
          },
          "metadata": {
            "tags": []
          },
          "execution_count": 15
        }
      ]
    },
    {
      "cell_type": "markdown",
      "metadata": {
        "id": "WtO6x1Na5oCG"
      },
      "source": [
        "##3.2Duplicates"
      ]
    },
    {
      "cell_type": "code",
      "metadata": {
        "id": "BwSPujyhodL4",
        "colab": {
          "base_uri": "https://localhost:8080/"
        },
        "outputId": "e45423a3-a1d9-4292-d865-dfa8e6eac1d9"
      },
      "source": [
        "#Checking for Duplicates\n",
        "home.duplicated().sum()"
      ],
      "execution_count": 16,
      "outputs": [
        {
          "output_type": "execute_result",
          "data": {
            "text/plain": [
              "3"
            ]
          },
          "metadata": {
            "tags": []
          },
          "execution_count": 16
        }
      ]
    },
    {
      "cell_type": "code",
      "metadata": {
        "id": "gaWu0KGRmXO1"
      },
      "source": [
        "# dropping the duplicates\n",
        "home.drop_duplicates(inplace = True)"
      ],
      "execution_count": 17,
      "outputs": []
    },
    {
      "cell_type": "code",
      "metadata": {
        "colab": {
          "base_uri": "https://localhost:8080/"
        },
        "id": "OJulCmPCnJrE",
        "outputId": "2f349fb5-b7ac-4724-dfa2-154bba1793b0"
      },
      "source": [
        "# Checking that we have no duplicates in the data\n",
        "home.duplicated().sum()"
      ],
      "execution_count": 18,
      "outputs": [
        {
          "output_type": "execute_result",
          "data": {
            "text/plain": [
              "0"
            ]
          },
          "metadata": {
            "tags": []
          },
          "execution_count": 18
        }
      ]
    },
    {
      "cell_type": "markdown",
      "metadata": {
        "id": "cPcc-nZNuWAy"
      },
      "source": [
        "##3.3 Changing the datatypes of some columns "
      ]
    },
    {
      "cell_type": "code",
      "metadata": {
        "id": "8j9FKGmppXgf"
      },
      "source": [
        "home['bathrooms'] = home.bathrooms.astype(int)"
      ],
      "execution_count": 19,
      "outputs": []
    },
    {
      "cell_type": "code",
      "metadata": {
        "id": "HoWZP8cttg1k"
      },
      "source": [
        "home['floors'] = home.floors.astype(int)"
      ],
      "execution_count": 20,
      "outputs": []
    },
    {
      "cell_type": "code",
      "metadata": {
        "id": "9diFttHYT7OM"
      },
      "source": [
        "home['price'] = home.price.astype(int)"
      ],
      "execution_count": 21,
      "outputs": []
    },
    {
      "cell_type": "code",
      "metadata": {
        "id": "L_q9qRuHuNTb",
        "colab": {
          "base_uri": "https://localhost:8080/",
          "height": 215
        },
        "outputId": "dcd1e9e9-6d6f-4260-e529-63d504733db7"
      },
      "source": [
        "home.head()"
      ],
      "execution_count": 22,
      "outputs": [
        {
          "output_type": "execute_result",
          "data": {
            "text/html": [
              "<div>\n",
              "<style scoped>\n",
              "    .dataframe tbody tr th:only-of-type {\n",
              "        vertical-align: middle;\n",
              "    }\n",
              "\n",
              "    .dataframe tbody tr th {\n",
              "        vertical-align: top;\n",
              "    }\n",
              "\n",
              "    .dataframe thead th {\n",
              "        text-align: right;\n",
              "    }\n",
              "</style>\n",
              "<table border=\"1\" class=\"dataframe\">\n",
              "  <thead>\n",
              "    <tr style=\"text-align: right;\">\n",
              "      <th></th>\n",
              "      <th>id</th>\n",
              "      <th>price</th>\n",
              "      <th>bedrooms</th>\n",
              "      <th>bathrooms</th>\n",
              "      <th>sqft_living</th>\n",
              "      <th>sqft_lot</th>\n",
              "      <th>floors</th>\n",
              "      <th>waterfront</th>\n",
              "      <th>view</th>\n",
              "      <th>condition</th>\n",
              "      <th>grade</th>\n",
              "      <th>sqft_above</th>\n",
              "      <th>sqft_basement</th>\n",
              "      <th>yr_built</th>\n",
              "      <th>yr_renovated</th>\n",
              "      <th>zipcode</th>\n",
              "      <th>lat</th>\n",
              "      <th>long</th>\n",
              "      <th>sqft_living15</th>\n",
              "      <th>sqft_lot15</th>\n",
              "    </tr>\n",
              "  </thead>\n",
              "  <tbody>\n",
              "    <tr>\n",
              "      <th>0</th>\n",
              "      <td>7129300520</td>\n",
              "      <td>221900</td>\n",
              "      <td>3</td>\n",
              "      <td>1</td>\n",
              "      <td>1180</td>\n",
              "      <td>5650</td>\n",
              "      <td>1</td>\n",
              "      <td>0</td>\n",
              "      <td>0</td>\n",
              "      <td>3</td>\n",
              "      <td>7</td>\n",
              "      <td>1180</td>\n",
              "      <td>0</td>\n",
              "      <td>1955</td>\n",
              "      <td>0</td>\n",
              "      <td>98178</td>\n",
              "      <td>47.5112</td>\n",
              "      <td>-122.257</td>\n",
              "      <td>1340</td>\n",
              "      <td>5650</td>\n",
              "    </tr>\n",
              "    <tr>\n",
              "      <th>1</th>\n",
              "      <td>6414100192</td>\n",
              "      <td>538000</td>\n",
              "      <td>3</td>\n",
              "      <td>2</td>\n",
              "      <td>2570</td>\n",
              "      <td>7242</td>\n",
              "      <td>2</td>\n",
              "      <td>0</td>\n",
              "      <td>0</td>\n",
              "      <td>3</td>\n",
              "      <td>7</td>\n",
              "      <td>2170</td>\n",
              "      <td>400</td>\n",
              "      <td>1951</td>\n",
              "      <td>1991</td>\n",
              "      <td>98125</td>\n",
              "      <td>47.7210</td>\n",
              "      <td>-122.319</td>\n",
              "      <td>1690</td>\n",
              "      <td>7639</td>\n",
              "    </tr>\n",
              "    <tr>\n",
              "      <th>2</th>\n",
              "      <td>5631500400</td>\n",
              "      <td>180000</td>\n",
              "      <td>2</td>\n",
              "      <td>1</td>\n",
              "      <td>770</td>\n",
              "      <td>10000</td>\n",
              "      <td>1</td>\n",
              "      <td>0</td>\n",
              "      <td>0</td>\n",
              "      <td>3</td>\n",
              "      <td>6</td>\n",
              "      <td>770</td>\n",
              "      <td>0</td>\n",
              "      <td>1933</td>\n",
              "      <td>0</td>\n",
              "      <td>98028</td>\n",
              "      <td>47.7379</td>\n",
              "      <td>-122.233</td>\n",
              "      <td>2720</td>\n",
              "      <td>8062</td>\n",
              "    </tr>\n",
              "    <tr>\n",
              "      <th>3</th>\n",
              "      <td>2487200875</td>\n",
              "      <td>604000</td>\n",
              "      <td>4</td>\n",
              "      <td>3</td>\n",
              "      <td>1960</td>\n",
              "      <td>5000</td>\n",
              "      <td>1</td>\n",
              "      <td>0</td>\n",
              "      <td>0</td>\n",
              "      <td>5</td>\n",
              "      <td>7</td>\n",
              "      <td>1050</td>\n",
              "      <td>910</td>\n",
              "      <td>1965</td>\n",
              "      <td>0</td>\n",
              "      <td>98136</td>\n",
              "      <td>47.5208</td>\n",
              "      <td>-122.393</td>\n",
              "      <td>1360</td>\n",
              "      <td>5000</td>\n",
              "    </tr>\n",
              "    <tr>\n",
              "      <th>4</th>\n",
              "      <td>1954400510</td>\n",
              "      <td>510000</td>\n",
              "      <td>3</td>\n",
              "      <td>2</td>\n",
              "      <td>1680</td>\n",
              "      <td>8080</td>\n",
              "      <td>1</td>\n",
              "      <td>0</td>\n",
              "      <td>0</td>\n",
              "      <td>3</td>\n",
              "      <td>8</td>\n",
              "      <td>1680</td>\n",
              "      <td>0</td>\n",
              "      <td>1987</td>\n",
              "      <td>0</td>\n",
              "      <td>98074</td>\n",
              "      <td>47.6168</td>\n",
              "      <td>-122.045</td>\n",
              "      <td>1800</td>\n",
              "      <td>7503</td>\n",
              "    </tr>\n",
              "  </tbody>\n",
              "</table>\n",
              "</div>"
            ],
            "text/plain": [
              "           id   price  bedrooms  ...     long  sqft_living15  sqft_lot15\n",
              "0  7129300520  221900         3  ... -122.257           1340        5650\n",
              "1  6414100192  538000         3  ... -122.319           1690        7639\n",
              "2  5631500400  180000         2  ... -122.233           2720        8062\n",
              "3  2487200875  604000         4  ... -122.393           1360        5000\n",
              "4  1954400510  510000         3  ... -122.045           1800        7503\n",
              "\n",
              "[5 rows x 20 columns]"
            ]
          },
          "metadata": {
            "tags": []
          },
          "execution_count": 22
        }
      ]
    },
    {
      "cell_type": "code",
      "metadata": {
        "colab": {
          "base_uri": "https://localhost:8080/"
        },
        "id": "ODZwH3C0DqHq",
        "outputId": "3e92cd58-464e-4643-9af7-0f868b3ad20d"
      },
      "source": [
        "home.dtypes"
      ],
      "execution_count": 39,
      "outputs": [
        {
          "output_type": "execute_result",
          "data": {
            "text/plain": [
              "id                 int64\n",
              "price              int64\n",
              "bedrooms           int64\n",
              "bathrooms          int64\n",
              "sqft_living        int64\n",
              "sqft_lot           int64\n",
              "floors             int64\n",
              "waterfront         int64\n",
              "view               int64\n",
              "condition          int64\n",
              "grade              int64\n",
              "sqft_above         int64\n",
              "sqft_basement      int64\n",
              "yr_built           int64\n",
              "yr_renovated       int64\n",
              "zipcode            int64\n",
              "lat              float64\n",
              "long             float64\n",
              "sqft_living15      int64\n",
              "sqft_lot15         int64\n",
              "dtype: object"
            ]
          },
          "metadata": {
            "tags": []
          },
          "execution_count": 39
        }
      ]
    },
    {
      "cell_type": "markdown",
      "metadata": {
        "id": "ft4zc3AHtuod"
      },
      "source": [
        "##3.5 Outliers"
      ]
    },
    {
      "cell_type": "code",
      "metadata": {
        "id": "X2xV4fvT012e",
        "colab": {
          "base_uri": "https://localhost:8080/"
        },
        "outputId": "d4f1e507-b24e-4577-8fad-5e1d299a5fc1"
      },
      "source": [
        "home.columns"
      ],
      "execution_count": 26,
      "outputs": [
        {
          "output_type": "execute_result",
          "data": {
            "text/plain": [
              "Index(['id', 'price', 'bedrooms', 'bathrooms', 'sqft_living', 'sqft_lot',\n",
              "       'floors', 'waterfront', 'view', 'condition', 'grade', 'sqft_above',\n",
              "       'sqft_basement', 'yr_built', 'yr_renovated', 'zipcode', 'lat', 'long',\n",
              "       'sqft_living15', 'sqft_lot15'],\n",
              "      dtype='object')"
            ]
          },
          "metadata": {
            "tags": []
          },
          "execution_count": 26
        }
      ]
    },
    {
      "cell_type": "code",
      "metadata": {
        "colab": {
          "base_uri": "https://localhost:8080/",
          "height": 1000
        },
        "id": "10zOpmDypzan",
        "outputId": "65d5abd6-5b72-42d3-9878-f214dc52a6e9"
      },
      "source": [
        "fig, ((ax1, ax2,ax3,ax4), (ax5, ax6,ax7,ax8),(ax9, ax10,ax11,ax12),(ax13,ax14,ax15,ax16))  = plt.subplots(4,4, figsize=(18, 10))\n",
        "\n",
        "sns.boxplot(home['price'], ax=ax1)\n",
        "sns.boxplot(home['bedrooms'], ax=ax2)\n",
        "sns.boxplot(home['bathrooms'], ax=ax3)\n",
        "sns.boxplot(home['sqft_living'], ax=ax4)\n",
        "sns.boxplot(home['sqft_lot'], ax=ax5)\n",
        "sns.boxplot(home['floors'], ax=ax6)\n",
        "sns.boxplot(home['view'], ax=ax7)\n",
        "sns.boxplot(home['condition'], ax=ax8)\n",
        "sns.boxplot(home['grade'], ax=ax9)\n",
        "sns.boxplot(home['view'], ax=ax10)\n",
        "sns.boxplot(home['sqft_above'], ax=ax11)\n",
        "sns.boxplot(home['sqft_basement'], ax=ax12)\n",
        "sns.boxplot(home['yr_built'], ax=ax13)\n",
        "sns.boxplot(home['yr_renovated'], ax=ax14)\n",
        "sns.boxplot(home['sqft_living15'], ax=ax15)\n",
        "sns.boxplot(home3.10.['sqft_lot15'], ax=ax16)\n",
        "plt.tight_layout()\n",
        "plt.show()\n",
        "\n",
        "\n"
      ],
      "execution_count": 28,
      "outputs": [
        {
          "output_type": "stream",
          "text": [
            "/usr/local/lib/python3.6/dist-packages/seaborn/_decorators.py:43: FutureWarning: Pass the following variable as a keyword arg: x. From version 0.12, the only valid positional argument will be `data`, and passing other arguments without an explicit keyword will result in an error or misinterpretation.\n",
            "  FutureWarning\n",
            "/usr/local/lib/python3.6/dist-packages/seaborn/_decorators.py:43: FutureWarning: Pass the following variable as a keyword arg: x. From version 0.12, the only valid positional argument will be `data`, and passing other arguments without an explicit keyword will result in an error or misinterpretation.\n",
            "  FutureWarning\n",
            "/usr/local/lib/python3.6/dist-packages/seaborn/_decorators.py:43: FutureWarning: Pass the following variable as a keyword arg: x. From version 0.12, the only valid positional argument will be `data`, and passing other arguments without an explicit keyword will result in an error or misinterpretation.\n",
            "  FutureWarning\n",
            "/usr/local/lib/python3.6/dist-packages/seaborn/_decorators.py:43: FutureWarning: Pass the following variable as a keyword arg: x. From version 0.12, the only valid positional argument will be `data`, and passing other arguments without an explicit keyword will result in an error or misinterpretation.\n",
            "  FutureWarning\n",
            "/usr/local/lib/python3.6/dist-packages/seaborn/_decorators.py:43: FutureWarning: Pass the following variable as a keyword arg: x. From version 0.12, the only valid positional argument will be `data`, and passing other arguments without an explicit keyword will result in an error or misinterpretation.\n",
            "  FutureWarning\n",
            "/usr/local/lib/python3.6/dist-packages/seaborn/_decorators.py:43: FutureWarning: Pass the following variable as a keyword arg: x. From version 0.12, the only valid positional argument will be `data`, and passing other arguments without an explicit keyword will result in an error or misinterpretation.\n",
            "  FutureWarning\n",
            "/usr/local/lib/python3.6/dist-packages/seaborn/_decorators.py:43: FutureWarning: Pass the following variable as a keyword arg: x. From version 0.12, the only valid positional argument will be `data`, and passing other arguments without an explicit keyword will result in an error or misinterpretation.\n",
            "  FutureWarning\n",
            "/usr/local/lib/python3.6/dist-packages/seaborn/_decorators.py:43: FutureWarning: Pass the following variable as a keyword arg: x. From version 0.12, the only valid positional argument will be `data`, and passing other arguments without an explicit keyword will result in an error or misinterpretation.\n",
            "  FutureWarning\n",
            "/usr/local/lib/python3.6/dist-packages/seaborn/_decorators.py:43: FutureWarning: Pass the following variable as a keyword arg: x. From version 0.12, the only valid positional argument will be `data`, and passing other arguments without an explicit keyword will result in an error or misinterpretation.\n",
            "  FutureWarning\n",
            "/usr/local/lib/python3.6/dist-packages/seaborn/_decorators.py:43: FutureWarning: Pass the following variable as a keyword arg: x. From version 0.12, the only valid positional argument will be `data`, and passing other arguments without an explicit keyword will result in an error or misinterpretation.\n",
            "  FutureWarning\n",
            "/usr/local/lib/python3.6/dist-packages/seaborn/_decorators.py:43: FutureWarning: Pass the following variable as a keyword arg: x. From version 0.12, the only valid positional argument will be `data`, and passing other arguments without an explicit keyword will result in an error or misinterpretation.\n",
            "  FutureWarning\n",
            "/usr/local/lib/python3.6/dist-packages/seaborn/_decorators.py:43: FutureWarning: Pass the following variable as a keyword arg: x. From version 0.12, the only valid positional argument will be `data`, and passing other arguments without an explicit keyword will result in an error or misinterpretation.\n",
            "  FutureWarning\n",
            "/usr/local/lib/python3.6/dist-packages/seaborn/_decorators.py:43: FutureWarning: Pass the following variable as a keyword arg: x. From version 0.12, the only valid positional argument will be `data`, and passing other arguments without an explicit keyword will result in an error or misinterpretation.\n",
            "  FutureWarning\n",
            "/usr/local/lib/python3.6/dist-packages/seaborn/_decorators.py:43: FutureWarning: Pass the following variable as a keyword arg: x. From version 0.12, the only valid positional argument will be `data`, and passing other arguments without an explicit keyword will result in an error or misinterpretation.\n",
            "  FutureWarning\n",
            "/usr/local/lib/python3.6/dist-packages/seaborn/_decorators.py:43: FutureWarning: Pass the following variable as a keyword arg: x. From version 0.12, the only valid positional argument will be `data`, and passing other arguments without an explicit keyword will result in an error or misinterpretation.\n",
            "  FutureWarning\n",
            "/usr/local/lib/python3.6/dist-packages/seaborn/_decorators.py:43: FutureWarning: Pass the following variable as a keyword arg: x. From version 0.12, the only valid positional argument will be `data`, and passing other arguments without an explicit keyword will result in an error or misinterpretation.\n",
            "  FutureWarning\n"
          ],
          "name": "stderr"
        },
        {
          "output_type": "display_data",
          "data": {
            "image/png": "[encoded data removed]",
            "text/plain": [
              "<Figure size 1296x720 with 16 Axes>"
            ]
          },
          "metadata": {
            "tags": [],
            "needs_background": "light"
          }
        }
      ]
    },
    {
      "cell_type": "markdown",
      "metadata": {
        "id": "sbM0Xv4P627m"
      },
      "source": [
        "There are outliers but i chose for them to remain so as not to affect the dataset"
      ]
    },
    {
      "cell_type": "markdown",
      "metadata": {
        "id": "-bxSmQndhPy1"
      },
      "source": [
        "# 4,0Exploratory Data Analysis"
      ]
    },
    {
      "cell_type": "markdown",
      "metadata": {
        "id": "LhRDcYEVjjwr"
      },
      "source": [
        "##4.1 Univariate"
      ]
    },
    {
      "cell_type": "code",
      "metadata": {
        "id": "1-ZT8kxX34Mb",
        "colab": {
          "base_uri": "https://localhost:8080/"
        },
        "outputId": "80c2b03b-f167-4167-f9ba-aa33ed8334dd"
      },
      "source": [
        "home.columns"
      ],
      "execution_count": 29,
      "outputs": [
        {
          "output_type": "execute_result",
          "data": {
            "text/plain": [
              "Index(['id', 'price', 'bedrooms', 'bathrooms', 'sqft_living', 'sqft_lot',\n",
              "       'floors', 'waterfront', 'view', 'condition', 'grade', 'sqft_above',\n",
              "       'sqft_basement', 'yr_built', 'yr_renovated', 'zipcode', 'lat', 'long',\n",
              "       'sqft_living15', 'sqft_lot15'],\n",
              "      dtype='object')"
            ]
          },
          "metadata": {
            "tags": []
          },
          "execution_count": 29
        }
      ]
    },
    {
      "cell_type": "code",
      "metadata": {
        "id": "sSzXAXATjhpP",
        "colab": {
          "base_uri": "https://localhost:8080/",
          "height": 279
        },
        "outputId": "8b386402-05c1-43a8-f27f-d4e4b35f2024"
      },
      "source": [
        "home['floors'].value_counts().plot(kind='bar')"
      ],
      "execution_count": 30,
      "outputs": [
        {
          "output_type": "execute_result",
          "data": {
            "text/plain": [
              "<matplotlib.axes._subplots.AxesSubplot at 0x7f2923cb91d0>"
            ]
          },
          "metadata": {
            "tags": []
          },
          "execution_count": 30
        },
        {
          "output_type": "display_data",
          "data": {
            "image/png": "[encoded data removed]",
            "text/plain": [
              "<Figure size 432x288 with 1 Axes>"
            ]
          },
          "metadata": {
            "tags": [],
            "needs_background": "light"
          }
        }
      ]
    },
    {
      "cell_type": "markdown",
      "metadata": {
        "id": "tmexHHkF0H7k"
      },
      "source": [
        "Most  houses had one floor"
      ]
    },
    {
      "cell_type": "code",
      "metadata": {
        "id": "rCRF_MdC2qmy",
        "colab": {
          "base_uri": "https://localhost:8080/",
          "height": 279
        },
        "outputId": "e0ea3db6-8159-44f9-d628-6afaa3b6f328"
      },
      "source": [
        "home['bathrooms'].value_counts().plot(kind='bar')"
      ],
      "execution_count": 31,
      "outputs": [
        {
          "output_type": "execute_result",
          "data": {
            "text/plain": [
              "<matplotlib.axes._subplots.AxesSubplot at 0x7f2923af1320>"
            ]
          },
          "metadata": {
            "tags": []
          },
          "execution_count": 31
        },
        {
          "output_type": "display_data",
          "data": {
            "image/png": "[encoded data removed]",
            "text/plain": [
              "<Figure size 432x288 with 1 Axes>"
            ]
          },
          "metadata": {
            "tags": [],
            "needs_background": "light"
          }
        }
      ]
    },
    {
      "cell_type": "markdown",
      "metadata": {
        "id": "nxfjFYUT0O9M"
      },
      "source": [
        "most houses had 2 bathrooms"
      ]
    },
    {
      "cell_type": "code",
      "metadata": {
        "id": "KQTdEqYZ3IlT",
        "colab": {
          "base_uri": "https://localhost:8080/",
          "height": 285
        },
        "outputId": "a7ffca02-f0e9-4fc6-e7cd-788f65a955e5"
      },
      "source": [
        "home['bedrooms'].value_counts().plot(kind='bar')"
      ],
      "execution_count": 32,
      "outputs": [
        {
          "output_type": "execute_result",
          "data": {
            "text/plain": [
              "<matplotlib.axes._subplots.AxesSubplot at 0x7f2923ac6668>"
            ]
          },
          "metadata": {
            "tags": []
          },
          "execution_count": 32
        },
        {
          "output_type": "display_data",
          "data": {
            "image/png": "[encoded data removed]",
            "text/plain": [
              "<Figure size 432x288 with 1 Axes>"
            ]
          },
          "metadata": {
            "tags": [],
            "needs_background": "light"
          }
        }
      ]
    },
    {
      "cell_type": "markdown",
      "metadata": {
        "id": "fee8C3MW0c2x"
      },
      "source": [
        "most houses had 3 bathrooms "
      ]
    },
    {
      "cell_type": "code",
      "metadata": {
        "colab": {
          "base_uri": "https://localhost:8080/",
          "height": 285
        },
        "id": "mvHBpDFE0pVQ",
        "outputId": "250607d0-aa9a-42ca-ab37-bf1f96f37895"
      },
      "source": [
        "home['grade'].value_counts().plot(kind='bar')"
      ],
      "execution_count": 33,
      "outputs": [
        {
          "output_type": "execute_result",
          "data": {
            "text/plain": [
              "<matplotlib.axes._subplots.AxesSubplot at 0x7f2923abf208>"
            ]
          },
          "metadata": {
            "tags": []
          },
          "execution_count": 33
        },
        {
          "output_type": "display_data",
          "data": {
            "image/png": "[encoded data removed]",
            "text/plain": [
              "<Figure size 432x288 with 1 Axes>"
            ]
          },
          "metadata": {
            "tags": [],
            "needs_background": "light"
          }
        }
      ]
    },
    {
      "cell_type": "markdown",
      "metadata": {
        "id": "qkwdAu2H9Rwb"
      },
      "source": [
        "most houses were of the 7th grade"
      ]
    },
    {
      "cell_type": "code",
      "metadata": {
        "id": "gSQEPBRE7OeK",
        "colab": {
          "base_uri": "https://localhost:8080/"
        },
        "outputId": "ce2771ef-6c88-43a9-974a-39e35ed4f9c2"
      },
      "source": [
        "houseuni = home.drop(['id', 'lat', 'long', 'zipcode'], axis=1)\n",
        "houseuni.mean()\n",
        "\n"
      ],
      "execution_count": 35,
      "outputs": [
        {
          "output_type": "execute_result",
          "data": {
            "text/plain": [
              "price            540178.944840\n",
              "bedrooms              3.370847\n",
              "bathrooms             1.749745\n",
              "sqft_living        2079.881212\n",
              "sqft_lot          15108.289820\n",
              "floors                1.446136\n",
              "waterfront            0.007543\n",
              "view                  0.234197\n",
              "condition             3.409440\n",
              "grade                 7.656779\n",
              "sqft_above         1788.347894\n",
              "sqft_basement       291.533318\n",
              "yr_built           1971.003609\n",
              "yr_renovated         84.322351\n",
              "sqft_living15      1986.518695\n",
              "sqft_lot15        12769.031976\n",
              "dtype: float64"
            ]
          },
          "metadata": {
            "tags": []
          },
          "execution_count": 35
        }
      ]
    },
    {
      "cell_type": "markdown",
      "metadata": {
        "id": "Ur2PgNhyA5Kt"
      },
      "source": [
        "On average the square living size  of houses is  2079.881212401666\n",
        "\n",
        "on average the square ft above of the houses is  1788.3478944932901"
      ]
    },
    {
      "cell_type": "code",
      "metadata": {
        "id": "J9VSMXHRxYy0",
        "colab": {
          "base_uri": "https://localhost:8080/"
        },
        "outputId": "de9cb834-31a6-40d8-ae21-3f24f44a1931"
      },
      "source": [
        "houseuni = home.drop(['id','lat', 'long', 'zipcode'], axis=1)\n",
        "\n",
        "houseuni.max()"
      ],
      "execution_count": 37,
      "outputs": [
        {
          "output_type": "execute_result",
          "data": {
            "text/plain": [
              "price            7700000\n",
              "bedrooms              33\n",
              "bathrooms              8\n",
              "sqft_living        13540\n",
              "sqft_lot         1651359\n",
              "floors                 3\n",
              "waterfront             1\n",
              "view                   4\n",
              "condition              5\n",
              "grade                 13\n",
              "sqft_above          9410\n",
              "sqft_basement       4820\n",
              "yr_built            2015\n",
              "yr_renovated        2015\n",
              "sqft_living15       6210\n",
              "sqft_lot15        871200\n",
              "dtype: int64"
            ]
          },
          "metadata": {
            "tags": []
          },
          "execution_count": 37
        }
      ]
    },
    {
      "cell_type": "markdown",
      "metadata": {
        "id": "7IIETSMBDhD0"
      },
      "source": [
        "The most expensive house retails at  7700000 .\n",
        "The latest year when a house was built was 2015.Then year of latest renovation was also 2015"
      ]
    },
    {
      "cell_type": "code",
      "metadata": {
        "id": "tnly8ptixML8",
        "colab": {
          "base_uri": "https://localhost:8080/"
        },
        "outputId": "87a0ee12-374a-41f7-bb62-3ff04afb4377"
      },
      "source": [
        "houseuni= home.drop(['id','lat', 'long'], axis=1)\n",
        "houseuni.min()\n"
      ],
      "execution_count": null,
      "outputs": [
        {
          "output_type": "execute_result",
          "data": {
            "text/plain": [
              "price             75000\n",
              "bedrooms              0\n",
              "bathrooms             0\n",
              "sqft_living         290\n",
              "sqft_lot            520\n",
              "floors                1\n",
              "waterfront            0\n",
              "view                  0\n",
              "condition             1\n",
              "grade                 1\n",
              "sqft_above          290\n",
              "sqft_basement         0\n",
              "yr_built           1900\n",
              "yr_renovated          0\n",
              "zipcode           98001\n",
              "sqft_living15       399\n",
              "sqft_lot15          651\n",
              "city             Auburn\n",
              "dtype: object"
            ]
          },
          "metadata": {
            "tags": []
          },
          "execution_count": 213
        }
      ]
    },
    {
      "cell_type": "markdown",
      "metadata": {
        "id": "tARpI96hESeo"
      },
      "source": [
        "The cheapest price of a house is 75000.0\n",
        "The smallest value for sqft living and sqft lot is 399 and 651 respectively\n"
      ]
    },
    {
      "cell_type": "markdown",
      "metadata": {
        "id": "sDHea8Hfjp1r"
      },
      "source": [
        "## 4.2Bivariate"
      ]
    },
    {
      "cell_type": "code",
      "metadata": {
        "id": "T-XKnt_4gnaF",
        "colab": {
          "base_uri": "https://localhost:8080/",
          "height": 215
        },
        "outputId": "4032cf0c-f3b7-4469-c852-a046b1f322df"
      },
      "source": [
        "housebiv=home.drop(['id','lat', 'long'],axis=1)\n",
        "housebiv.head()"
      ],
      "execution_count": 38,
      "outputs": [
        {
          "output_type": "execute_result",
          "data": {
            "text/html": [
              "<div>\n",
              "<style scoped>\n",
              "    .dataframe tbody tr th:only-of-type {\n",
              "        vertical-align: middle;\n",
              "    }\n",
              "\n",
              "    .dataframe tbody tr th {\n",
              "        vertical-align: top;\n",
              "    }\n",
              "\n",
              "    .dataframe thead th {\n",
              "        text-align: right;\n",
              "    }\n",
              "</style>\n",
              "<table border=\"1\" class=\"dataframe\">\n",
              "  <thead>\n",
              "    <tr style=\"text-align: right;\">\n",
              "      <th></th>\n",
              "      <th>price</th>\n",
              "      <th>bedrooms</th>\n",
              "      <th>bathrooms</th>\n",
              "      <th>sqft_living</th>\n",
              "      <th>sqft_lot</th>\n",
              "      <th>floors</th>\n",
              "      <th>waterfront</th>\n",
              "      <th>view</th>\n",
              "      <th>condition</th>\n",
              "      <th>grade</th>\n",
              "      <th>sqft_above</th>\n",
              "      <th>sqft_basement</th>\n",
              "      <th>yr_built</th>\n",
              "      <th>yr_renovated</th>\n",
              "      <th>zipcode</th>\n",
              "      <th>sqft_living15</th>\n",
              "      <th>sqft_lot15</th>\n",
              "    </tr>\n",
              "  </thead>\n",
              "  <tbody>\n",
              "    <tr>\n",
              "      <th>0</th>\n",
              "      <td>221900</td>\n",
              "      <td>3</td>\n",
              "      <td>1</td>\n",
              "      <td>1180</td>\n",
              "      <td>5650</td>\n",
              "      <td>1</td>\n",
              "      <td>0</td>\n",
              "      <td>0</td>\n",
              "      <td>3</td>\n",
              "      <td>7</td>\n",
              "      <td>1180</td>\n",
              "      <td>0</td>\n",
              "      <td>1955</td>\n",
              "      <td>0</td>\n",
              "      <td>98178</td>\n",
              "      <td>1340</td>\n",
              "      <td>5650</td>\n",
              "    </tr>\n",
              "    <tr>\n",
              "      <th>1</th>\n",
              "      <td>538000</td>\n",
              "      <td>3</td>\n",
              "      <td>2</td>\n",
              "      <td>2570</td>\n",
              "      <td>7242</td>\n",
              "      <td>2</td>\n",
              "      <td>0</td>\n",
              "      <td>0</td>\n",
              "      <td>3</td>\n",
              "      <td>7</td>\n",
              "      <td>2170</td>\n",
              "      <td>400</td>\n",
              "      <td>1951</td>\n",
              "      <td>1991</td>\n",
              "      <td>98125</td>\n",
              "      <td>1690</td>\n",
              "      <td>7639</td>\n",
              "    </tr>\n",
              "    <tr>\n",
              "      <th>2</th>\n",
              "      <td>180000</td>\n",
              "      <td>2</td>\n",
              "      <td>1</td>\n",
              "      <td>770</td>\n",
              "      <td>10000</td>\n",
              "      <td>1</td>\n",
              "      <td>0</td>\n",
              "      <td>0</td>\n",
              "      <td>3</td>\n",
              "      <td>6</td>\n",
              "      <td>770</td>\n",
              "      <td>0</td>\n",
              "      <td>1933</td>\n",
              "      <td>0</td>\n",
              "      <td>98028</td>\n",
              "      <td>2720</td>\n",
              "      <td>8062</td>\n",
              "    </tr>\n",
              "    <tr>\n",
              "      <th>3</th>\n",
              "      <td>604000</td>\n",
              "      <td>4</td>\n",
              "      <td>3</td>\n",
              "      <td>1960</td>\n",
              "      <td>5000</td>\n",
              "      <td>1</td>\n",
              "      <td>0</td>\n",
              "      <td>0</td>\n",
              "      <td>5</td>\n",
              "      <td>7</td>\n",
              "      <td>1050</td>\n",
              "      <td>910</td>\n",
              "      <td>1965</td>\n",
              "      <td>0</td>\n",
              "      <td>98136</td>\n",
              "      <td>1360</td>\n",
              "      <td>5000</td>\n",
              "    </tr>\n",
              "    <tr>\n",
              "      <th>4</th>\n",
              "      <td>510000</td>\n",
              "      <td>3</td>\n",
              "      <td>2</td>\n",
              "      <td>1680</td>\n",
              "      <td>8080</td>\n",
              "      <td>1</td>\n",
              "      <td>0</td>\n",
              "      <td>0</td>\n",
              "      <td>3</td>\n",
              "      <td>8</td>\n",
              "      <td>1680</td>\n",
              "      <td>0</td>\n",
              "      <td>1987</td>\n",
              "      <td>0</td>\n",
              "      <td>98074</td>\n",
              "      <td>1800</td>\n",
              "      <td>7503</td>\n",
              "    </tr>\n",
              "  </tbody>\n",
              "</table>\n",
              "</div>"
            ],
            "text/plain": [
              "    price  bedrooms  bathrooms  ...  zipcode  sqft_living15  sqft_lot15\n",
              "0  221900         3          1  ...    98178           1340        5650\n",
              "1  538000         3          2  ...    98125           1690        7639\n",
              "2  180000         2          1  ...    98028           2720        8062\n",
              "3  604000         4          3  ...    98136           1360        5000\n",
              "4  510000         3          2  ...    98074           1800        7503\n",
              "\n",
              "[5 rows x 17 columns]"
            ]
          },
          "metadata": {
            "tags": []
          },
          "execution_count": 38
        }
      ]
    },
    {
      "cell_type": "code",
      "metadata": {
        "colab": {
          "base_uri": "https://localhost:8080/",
          "height": 282
        },
        "id": "g65sXfquqEfd",
        "outputId": "32e2385b-eef1-45fc-ad34-376683e153e8"
      },
      "source": [
        "# plottimg scatter plot to show relationship between grade and price\n",
        "plt.scatter(x=df['grade'],y=df['price'] )"
      ],
      "execution_count": 326,
      "outputs": [
        {
          "output_type": "execute_result",
          "data": {
            "text/plain": [
              "<matplotlib.collections.PathCollection at 0x7fc252ce4b38>"
            ]
          },
          "metadata": {
            "tags": []
          },
          "execution_count": 326
        },
        {
          "output_type": "display_data",
          "data": {
            "image/png": "[encoded data removed]",
            "text/plain": [
              "<Figure size 432x288 with 1 Axes>"
            ]
          },
          "metadata": {
            "tags": [],
            "needs_background": "light"
          }
        }
      ]
    },
    {
      "cell_type": "markdown",
      "metadata": {
        "id": "1iCjVRuXq8hw"
      },
      "source": [
        "As the grade of the house increases so does the house"
      ]
    },
    {
      "cell_type": "markdown",
      "metadata": {
        "id": "ggWWdFNbqsLy"
      },
      "source": [
        "## 4.3Multivariate"
      ]
    },
    {
      "cell_type": "code",
      "metadata": {
        "id": "I501hjP3gnaV",
        "colab": {
          "base_uri": "https://localhost:8080/",
          "height": 1000
        },
        "outputId": "09f2c998-ff55-4f92-f747-827da7b6fd04"
      },
      "source": [
        "plt.subplots(figsize=(30,30))\n",
        "sns.heatmap(housebiv.corr(),annot=True)"
      ],
      "execution_count": 40,
      "outputs": [
        {
          "output_type": "execute_result",
          "data": {
            "text/plain": [
              "<matplotlib.axes._subplots.AxesSubplot at 0x7f292379f9b0>"
            ]
          },
          "metadata": {
            "tags": []
          },
          "execution_count": 40
        },
        {
          "output_type": "display_data",
          "data": {
            "image/png": "[encoded data removed]",
            "text/plain": [
              "<Figure size 2160x2160 with 2 Axes>"
            ]
          },
          "metadata": {
            "tags": [],
            "needs_background": "light"
          }
        }
      ]
    },
    {
      "cell_type": "markdown",
      "metadata": {
        "id": "kMR7rC_Yd6DM"
      },
      "source": [
        "some features are highly positively correlated eg sqft_above and sqft*-living  with a correlation of 0.88\n",
        "some features are weakly  positively correlated eg year renovated  and grade of a house  with a correlation of 0.0014\n",
        "others have a negative correlation eg year buily and year renovated\n"
      ]
    },
    {
      "cell_type": "code",
      "metadata": {
        "colab": {
          "base_uri": "https://localhost:8080/",
          "height": 570
        },
        "id": "thbAAeHJImRo",
        "outputId": "078dfa0a-5af4-4ba5-f0e4-a4a185e3408f"
      },
      "source": [
        "housebiv.corr()"
      ],
      "execution_count": 41,
      "outputs": [
        {
          "output_type": "execute_result",
          "data": {
            "text/html": [
              "<div>\n",
              "<style scoped>\n",
              "    .dataframe tbody tr th:only-of-type {\n",
              "        vertical-align: middle;\n",
              "    }\n",
              "\n",
              "    .dataframe tbody tr th {\n",
              "        vertical-align: top;\n",
              "    }\n",
              "\n",
              "    .dataframe thead th {\n",
              "        text-align: right;\n",
              "    }\n",
              "</style>\n",
              "<table border=\"1\" class=\"dataframe\">\n",
              "  <thead>\n",
              "    <tr style=\"text-align: right;\">\n",
              "      <th></th>\n",
              "      <th>price</th>\n",
              "      <th>bedrooms</th>\n",
              "      <th>bathrooms</th>\n",
              "      <th>sqft_living</th>\n",
              "      <th>sqft_lot</th>\n",
              "      <th>floors</th>\n",
              "      <th>waterfront</th>\n",
              "      <th>view</th>\n",
              "      <th>condition</th>\n",
              "      <th>grade</th>\n",
              "      <th>sqft_above</th>\n",
              "      <th>sqft_basement</th>\n",
              "      <th>yr_built</th>\n",
              "      <th>yr_renovated</th>\n",
              "      <th>zipcode</th>\n",
              "      <th>sqft_living15</th>\n",
              "      <th>sqft_lot15</th>\n",
              "    </tr>\n",
              "  </thead>\n",
              "  <tbody>\n",
              "    <tr>\n",
              "      <th>price</th>\n",
              "      <td>1.000000</td>\n",
              "      <td>0.308346</td>\n",
              "      <td>0.510096</td>\n",
              "      <td>0.702046</td>\n",
              "      <td>0.089658</td>\n",
              "      <td>0.237215</td>\n",
              "      <td>0.266332</td>\n",
              "      <td>0.397466</td>\n",
              "      <td>0.036397</td>\n",
              "      <td>0.667478</td>\n",
              "      <td>0.605569</td>\n",
              "      <td>0.323849</td>\n",
              "      <td>0.053980</td>\n",
              "      <td>0.126503</td>\n",
              "      <td>-0.053162</td>\n",
              "      <td>0.585382</td>\n",
              "      <td>0.082457</td>\n",
              "    </tr>\n",
              "    <tr>\n",
              "      <th>bedrooms</th>\n",
              "      <td>0.308346</td>\n",
              "      <td>1.000000</td>\n",
              "      <td>0.467519</td>\n",
              "      <td>0.576674</td>\n",
              "      <td>0.031699</td>\n",
              "      <td>0.155663</td>\n",
              "      <td>-0.006583</td>\n",
              "      <td>0.079433</td>\n",
              "      <td>0.028422</td>\n",
              "      <td>0.357003</td>\n",
              "      <td>0.477619</td>\n",
              "      <td>0.303077</td>\n",
              "      <td>0.154276</td>\n",
              "      <td>0.018695</td>\n",
              "      <td>-0.152721</td>\n",
              "      <td>0.391633</td>\n",
              "      <td>0.029233</td>\n",
              "    </tr>\n",
              "    <tr>\n",
              "      <th>bathrooms</th>\n",
              "      <td>0.510096</td>\n",
              "      <td>0.467519</td>\n",
              "      <td>1.000000</td>\n",
              "      <td>0.697914</td>\n",
              "      <td>0.085313</td>\n",
              "      <td>0.484886</td>\n",
              "      <td>0.058799</td>\n",
              "      <td>0.177497</td>\n",
              "      <td>-0.125962</td>\n",
              "      <td>0.606661</td>\n",
              "      <td>0.639963</td>\n",
              "      <td>0.250920</td>\n",
              "      <td>0.433608</td>\n",
              "      <td>0.060698</td>\n",
              "      <td>-0.159755</td>\n",
              "      <td>0.510106</td>\n",
              "      <td>0.080794</td>\n",
              "    </tr>\n",
              "    <tr>\n",
              "      <th>sqft_living</th>\n",
              "      <td>0.702046</td>\n",
              "      <td>0.576674</td>\n",
              "      <td>0.697914</td>\n",
              "      <td>1.000000</td>\n",
              "      <td>0.172830</td>\n",
              "      <td>0.353327</td>\n",
              "      <td>0.103820</td>\n",
              "      <td>0.284641</td>\n",
              "      <td>-0.058768</td>\n",
              "      <td>0.762719</td>\n",
              "      <td>0.876600</td>\n",
              "      <td>0.435054</td>\n",
              "      <td>0.318099</td>\n",
              "      <td>0.055314</td>\n",
              "      <td>-0.199435</td>\n",
              "      <td>0.756420</td>\n",
              "      <td>0.183285</td>\n",
              "    </tr>\n",
              "    <tr>\n",
              "      <th>sqft_lot</th>\n",
              "      <td>0.089658</td>\n",
              "      <td>0.031699</td>\n",
              "      <td>0.085313</td>\n",
              "      <td>0.172830</td>\n",
              "      <td>1.000000</td>\n",
              "      <td>-0.008919</td>\n",
              "      <td>0.021601</td>\n",
              "      <td>0.074753</td>\n",
              "      <td>-0.008967</td>\n",
              "      <td>0.113644</td>\n",
              "      <td>0.183527</td>\n",
              "      <td>0.015271</td>\n",
              "      <td>0.053105</td>\n",
              "      <td>0.007677</td>\n",
              "      <td>-0.129611</td>\n",
              "      <td>0.144620</td>\n",
              "      <td>0.718556</td>\n",
              "    </tr>\n",
              "    <tr>\n",
              "      <th>floors</th>\n",
              "      <td>0.237215</td>\n",
              "      <td>0.155663</td>\n",
              "      <td>0.484886</td>\n",
              "      <td>0.353327</td>\n",
              "      <td>-0.008919</td>\n",
              "      <td>1.000000</td>\n",
              "      <td>0.019654</td>\n",
              "      <td>0.024528</td>\n",
              "      <td>-0.293188</td>\n",
              "      <td>0.472577</td>\n",
              "      <td>0.517903</td>\n",
              "      <td>-0.235802</td>\n",
              "      <td>0.578663</td>\n",
              "      <td>-0.007979</td>\n",
              "      <td>-0.096645</td>\n",
              "      <td>0.296537</td>\n",
              "      <td>-0.013232</td>\n",
              "    </tr>\n",
              "    <tr>\n",
              "      <th>waterfront</th>\n",
              "      <td>0.266332</td>\n",
              "      <td>-0.006583</td>\n",
              "      <td>0.058799</td>\n",
              "      <td>0.103820</td>\n",
              "      <td>0.021601</td>\n",
              "      <td>0.019654</td>\n",
              "      <td>1.000000</td>\n",
              "      <td>0.401993</td>\n",
              "      <td>0.016652</td>\n",
              "      <td>0.082785</td>\n",
              "      <td>0.072080</td>\n",
              "      <td>0.080585</td>\n",
              "      <td>-0.026159</td>\n",
              "      <td>0.092950</td>\n",
              "      <td>0.030277</td>\n",
              "      <td>0.086469</td>\n",
              "      <td>0.030702</td>\n",
              "    </tr>\n",
              "    <tr>\n",
              "      <th>view</th>\n",
              "      <td>0.397466</td>\n",
              "      <td>0.079433</td>\n",
              "      <td>0.177497</td>\n",
              "      <td>0.284641</td>\n",
              "      <td>0.074753</td>\n",
              "      <td>0.024528</td>\n",
              "      <td>0.401993</td>\n",
              "      <td>1.000000</td>\n",
              "      <td>0.045836</td>\n",
              "      <td>0.251378</td>\n",
              "      <td>0.167659</td>\n",
              "      <td>0.276996</td>\n",
              "      <td>-0.053229</td>\n",
              "      <td>0.103208</td>\n",
              "      <td>0.084838</td>\n",
              "      <td>0.280404</td>\n",
              "      <td>0.072577</td>\n",
              "    </tr>\n",
              "    <tr>\n",
              "      <th>condition</th>\n",
              "      <td>0.036397</td>\n",
              "      <td>0.028422</td>\n",
              "      <td>-0.125962</td>\n",
              "      <td>-0.058768</td>\n",
              "      <td>-0.008967</td>\n",
              "      <td>-0.293188</td>\n",
              "      <td>0.016652</td>\n",
              "      <td>0.045836</td>\n",
              "      <td>1.000000</td>\n",
              "      <td>-0.144655</td>\n",
              "      <td>-0.158212</td>\n",
              "      <td>0.174071</td>\n",
              "      <td>-0.361347</td>\n",
              "      <td>-0.060862</td>\n",
              "      <td>0.002962</td>\n",
              "      <td>-0.092854</td>\n",
              "      <td>-0.003424</td>\n",
              "    </tr>\n",
              "    <tr>\n",
              "      <th>grade</th>\n",
              "      <td>0.667478</td>\n",
              "      <td>0.357003</td>\n",
              "      <td>0.606661</td>\n",
              "      <td>0.762719</td>\n",
              "      <td>0.113644</td>\n",
              "      <td>0.472577</td>\n",
              "      <td>0.082785</td>\n",
              "      <td>0.251378</td>\n",
              "      <td>-0.144655</td>\n",
              "      <td>1.000000</td>\n",
              "      <td>0.755919</td>\n",
              "      <td>0.168443</td>\n",
              "      <td>0.446966</td>\n",
              "      <td>0.014372</td>\n",
              "      <td>-0.184795</td>\n",
              "      <td>0.713208</td>\n",
              "      <td>0.119265</td>\n",
              "    </tr>\n",
              "    <tr>\n",
              "      <th>sqft_above</th>\n",
              "      <td>0.605569</td>\n",
              "      <td>0.477619</td>\n",
              "      <td>0.639963</td>\n",
              "      <td>0.876600</td>\n",
              "      <td>0.183527</td>\n",
              "      <td>0.517903</td>\n",
              "      <td>0.072080</td>\n",
              "      <td>0.167659</td>\n",
              "      <td>-0.158212</td>\n",
              "      <td>0.755919</td>\n",
              "      <td>1.000000</td>\n",
              "      <td>-0.051923</td>\n",
              "      <td>0.423922</td>\n",
              "      <td>0.023233</td>\n",
              "      <td>-0.261163</td>\n",
              "      <td>0.731870</td>\n",
              "      <td>0.194060</td>\n",
              "    </tr>\n",
              "    <tr>\n",
              "      <th>sqft_basement</th>\n",
              "      <td>0.323849</td>\n",
              "      <td>0.303077</td>\n",
              "      <td>0.250920</td>\n",
              "      <td>0.435054</td>\n",
              "      <td>0.015271</td>\n",
              "      <td>-0.235802</td>\n",
              "      <td>0.080585</td>\n",
              "      <td>0.276996</td>\n",
              "      <td>0.174071</td>\n",
              "      <td>0.168443</td>\n",
              "      <td>-0.051923</td>\n",
              "      <td>1.000000</td>\n",
              "      <td>-0.133062</td>\n",
              "      <td>0.071320</td>\n",
              "      <td>0.074781</td>\n",
              "      <td>0.200367</td>\n",
              "      <td>0.017260</td>\n",
              "    </tr>\n",
              "    <tr>\n",
              "      <th>yr_built</th>\n",
              "      <td>0.053980</td>\n",
              "      <td>0.154276</td>\n",
              "      <td>0.433608</td>\n",
              "      <td>0.318099</td>\n",
              "      <td>0.053105</td>\n",
              "      <td>0.578663</td>\n",
              "      <td>-0.026159</td>\n",
              "      <td>-0.053229</td>\n",
              "      <td>-0.361347</td>\n",
              "      <td>0.446966</td>\n",
              "      <td>0.423922</td>\n",
              "      <td>-0.133062</td>\n",
              "      <td>1.000000</td>\n",
              "      <td>-0.224729</td>\n",
              "      <td>-0.346808</td>\n",
              "      <td>0.326298</td>\n",
              "      <td>0.070999</td>\n",
              "    </tr>\n",
              "    <tr>\n",
              "      <th>yr_renovated</th>\n",
              "      <td>0.126503</td>\n",
              "      <td>0.018695</td>\n",
              "      <td>0.060698</td>\n",
              "      <td>0.055314</td>\n",
              "      <td>0.007677</td>\n",
              "      <td>-0.007979</td>\n",
              "      <td>0.092950</td>\n",
              "      <td>0.103208</td>\n",
              "      <td>-0.060862</td>\n",
              "      <td>0.014372</td>\n",
              "      <td>0.023233</td>\n",
              "      <td>0.071320</td>\n",
              "      <td>-0.224729</td>\n",
              "      <td>1.000000</td>\n",
              "      <td>0.064388</td>\n",
              "      <td>-0.002841</td>\n",
              "      <td>0.007837</td>\n",
              "    </tr>\n",
              "    <tr>\n",
              "      <th>zipcode</th>\n",
              "      <td>-0.053162</td>\n",
              "      <td>-0.152721</td>\n",
              "      <td>-0.159755</td>\n",
              "      <td>-0.199435</td>\n",
              "      <td>-0.129611</td>\n",
              "      <td>-0.096645</td>\n",
              "      <td>0.030277</td>\n",
              "      <td>0.084838</td>\n",
              "      <td>0.002962</td>\n",
              "      <td>-0.184795</td>\n",
              "      <td>-0.261163</td>\n",
              "      <td>0.074781</td>\n",
              "      <td>-0.346808</td>\n",
              "      <td>0.064388</td>\n",
              "      <td>1.000000</td>\n",
              "      <td>-0.279033</td>\n",
              "      <td>-0.147257</td>\n",
              "    </tr>\n",
              "    <tr>\n",
              "      <th>sqft_living15</th>\n",
              "      <td>0.585382</td>\n",
              "      <td>0.391633</td>\n",
              "      <td>0.510106</td>\n",
              "      <td>0.756420</td>\n",
              "      <td>0.144620</td>\n",
              "      <td>0.296537</td>\n",
              "      <td>0.086469</td>\n",
              "      <td>0.280404</td>\n",
              "      <td>-0.092854</td>\n",
              "      <td>0.713208</td>\n",
              "      <td>0.731870</td>\n",
              "      <td>0.200367</td>\n",
              "      <td>0.326298</td>\n",
              "      <td>-0.002841</td>\n",
              "      <td>-0.279033</td>\n",
              "      <td>1.000000</td>\n",
              "      <td>0.183194</td>\n",
              "    </tr>\n",
              "    <tr>\n",
              "      <th>sqft_lot15</th>\n",
              "      <td>0.082457</td>\n",
              "      <td>0.029233</td>\n",
              "      <td>0.080794</td>\n",
              "      <td>0.183285</td>\n",
              "      <td>0.718556</td>\n",
              "      <td>-0.013232</td>\n",
              "      <td>0.030702</td>\n",
              "      <td>0.072577</td>\n",
              "      <td>-0.003424</td>\n",
              "      <td>0.119265</td>\n",
              "      <td>0.194060</td>\n",
              "      <td>0.017260</td>\n",
              "      <td>0.070999</td>\n",
              "      <td>0.007837</td>\n",
              "      <td>-0.147257</td>\n",
              "      <td>0.183194</td>\n",
              "      <td>1.000000</td>\n",
              "    </tr>\n",
              "  </tbody>\n",
              "</table>\n",
              "</div>"
            ],
            "text/plain": [
              "                  price  bedrooms  ...  sqft_living15  sqft_lot15\n",
              "price          1.000000  0.308346  ...       0.585382    0.082457\n",
              "bedrooms       0.308346  1.000000  ...       0.391633    0.029233\n",
              "bathrooms      0.510096  0.467519  ...       0.510106    0.080794\n",
              "sqft_living    0.702046  0.576674  ...       0.756420    0.183285\n",
              "sqft_lot       0.089658  0.031699  ...       0.144620    0.718556\n",
              "floors         0.237215  0.155663  ...       0.296537   -0.013232\n",
              "waterfront     0.266332 -0.006583  ...       0.086469    0.030702\n",
              "view           0.397466  0.079433  ...       0.280404    0.072577\n",
              "condition      0.036397  0.028422  ...      -0.092854   -0.003424\n",
              "grade          0.667478  0.357003  ...       0.713208    0.119265\n",
              "sqft_above     0.605569  0.477619  ...       0.731870    0.194060\n",
              "sqft_basement  0.323849  0.303077  ...       0.200367    0.017260\n",
              "yr_built       0.053980  0.154276  ...       0.326298    0.070999\n",
              "yr_renovated   0.126503  0.018695  ...      -0.002841    0.007837\n",
              "zipcode       -0.053162 -0.152721  ...      -0.279033   -0.147257\n",
              "sqft_living15  0.585382  0.391633  ...       1.000000    0.183194\n",
              "sqft_lot15     0.082457  0.029233  ...       0.183194    1.000000\n",
              "\n",
              "[17 rows x 17 columns]"
            ]
          },
          "metadata": {
            "tags": []
          },
          "execution_count": 41
        }
      ]
    },
    {
      "cell_type": "markdown",
      "metadata": {
        "id": "_Ln7DxOk8Rr4"
      },
      "source": [
        "#5 Multicollinearity \n",
        "\n"
      ]
    },
    {
      "cell_type": "code",
      "metadata": {
        "colab": {
          "base_uri": "https://localhost:8080/",
          "height": 422
        },
        "id": "fZtPInv7X0UG",
        "outputId": "7a2d18e4-73bb-47e1-aab1-cf62ddc1901d"
      },
      "source": [
        "housem=home.copy()\n",
        "housem"
      ],
      "execution_count": 42,
      "outputs": [
        {
          "output_type": "execute_result",
          "data": {
            "text/html": [
              "<div>\n",
              "<style scoped>\n",
              "    .dataframe tbody tr th:only-of-type {\n",
              "        vertical-align: middle;\n",
              "    }\n",
              "\n",
              "    .dataframe tbody tr th {\n",
              "        vertical-align: top;\n",
              "    }\n",
              "\n",
              "    .dataframe thead th {\n",
              "        text-align: right;\n",
              "    }\n",
              "</style>\n",
              "<table border=\"1\" class=\"dataframe\">\n",
              "  <thead>\n",
              "    <tr style=\"text-align: right;\">\n",
              "      <th></th>\n",
              "      <th>id</th>\n",
              "      <th>price</th>\n",
              "      <th>bedrooms</th>\n",
              "      <th>bathrooms</th>\n",
              "      <th>sqft_living</th>\n",
              "      <th>sqft_lot</th>\n",
              "      <th>floors</th>\n",
              "      <th>waterfront</th>\n",
              "      <th>view</th>\n",
              "      <th>condition</th>\n",
              "      <th>grade</th>\n",
              "      <th>sqft_above</th>\n",
              "      <th>sqft_basement</th>\n",
              "      <th>yr_built</th>\n",
              "      <th>yr_renovated</th>\n",
              "      <th>zipcode</th>\n",
              "      <th>lat</th>\n",
              "      <th>long</th>\n",
              "      <th>sqft_living15</th>\n",
              "      <th>sqft_lot15</th>\n",
              "    </tr>\n",
              "  </thead>\n",
              "  <tbody>\n",
              "    <tr>\n",
              "      <th>0</th>\n",
              "      <td>7129300520</td>\n",
              "      <td>221900</td>\n",
              "      <td>3</td>\n",
              "      <td>1</td>\n",
              "      <td>1180</td>\n",
              "      <td>5650</td>\n",
              "      <td>1</td>\n",
              "      <td>0</td>\n",
              "      <td>0</td>\n",
              "      <td>3</td>\n",
              "      <td>7</td>\n",
              "      <td>1180</td>\n",
              "      <td>0</td>\n",
              "      <td>1955</td>\n",
              "      <td>0</td>\n",
              "      <td>98178</td>\n",
              "      <td>47.5112</td>\n",
              "      <td>-122.257</td>\n",
              "      <td>1340</td>\n",
              "      <td>5650</td>\n",
              "    </tr>\n",
              "    <tr>\n",
              "      <th>1</th>\n",
              "      <td>6414100192</td>\n",
              "      <td>538000</td>\n",
              "      <td>3</td>\n",
              "      <td>2</td>\n",
              "      <td>2570</td>\n",
              "      <td>7242</td>\n",
              "      <td>2</td>\n",
              "      <td>0</td>\n",
              "      <td>0</td>\n",
              "      <td>3</td>\n",
              "      <td>7</td>\n",
              "      <td>2170</td>\n",
              "      <td>400</td>\n",
              "      <td>1951</td>\n",
              "      <td>1991</td>\n",
              "      <td>98125</td>\n",
              "      <td>47.7210</td>\n",
              "      <td>-122.319</td>\n",
              "      <td>1690</td>\n",
              "      <td>7639</td>\n",
              "    </tr>\n",
              "    <tr>\n",
              "      <th>2</th>\n",
              "      <td>5631500400</td>\n",
              "      <td>180000</td>\n",
              "      <td>2</td>\n",
              "      <td>1</td>\n",
              "      <td>770</td>\n",
              "      <td>10000</td>\n",
              "      <td>1</td>\n",
              "      <td>0</td>\n",
              "      <td>0</td>\n",
              "      <td>3</td>\n",
              "      <td>6</td>\n",
              "      <td>770</td>\n",
              "      <td>0</td>\n",
              "      <td>1933</td>\n",
              "      <td>0</td>\n",
              "      <td>98028</td>\n",
              "      <td>47.7379</td>\n",
              "      <td>-122.233</td>\n",
              "      <td>2720</td>\n",
              "      <td>8062</td>\n",
              "    </tr>\n",
              "    <tr>\n",
              "      <th>3</th>\n",
              "      <td>2487200875</td>\n",
              "      <td>604000</td>\n",
              "      <td>4</td>\n",
              "      <td>3</td>\n",
              "      <td>1960</td>\n",
              "      <td>5000</td>\n",
              "      <td>1</td>\n",
              "      <td>0</td>\n",
              "      <td>0</td>\n",
              "      <td>5</td>\n",
              "      <td>7</td>\n",
              "      <td>1050</td>\n",
              "      <td>910</td>\n",
              "      <td>1965</td>\n",
              "      <td>0</td>\n",
              "      <td>98136</td>\n",
              "      <td>47.5208</td>\n",
              "      <td>-122.393</td>\n",
              "      <td>1360</td>\n",
              "      <td>5000</td>\n",
              "    </tr>\n",
              "    <tr>\n",
              "      <th>4</th>\n",
              "      <td>1954400510</td>\n",
              "      <td>510000</td>\n",
              "      <td>3</td>\n",
              "      <td>2</td>\n",
              "      <td>1680</td>\n",
              "      <td>8080</td>\n",
              "      <td>1</td>\n",
              "      <td>0</td>\n",
              "      <td>0</td>\n",
              "      <td>3</td>\n",
              "      <td>8</td>\n",
              "      <td>1680</td>\n",
              "      <td>0</td>\n",
              "      <td>1987</td>\n",
              "      <td>0</td>\n",
              "      <td>98074</td>\n",
              "      <td>47.6168</td>\n",
              "      <td>-122.045</td>\n",
              "      <td>1800</td>\n",
              "      <td>7503</td>\n",
              "    </tr>\n",
              "    <tr>\n",
              "      <th>...</th>\n",
              "      <td>...</td>\n",
              "      <td>...</td>\n",
              "      <td>...</td>\n",
              "      <td>...</td>\n",
              "      <td>...</td>\n",
              "      <td>...</td>\n",
              "      <td>...</td>\n",
              "      <td>...</td>\n",
              "      <td>...</td>\n",
              "      <td>...</td>\n",
              "      <td>...</td>\n",
              "      <td>...</td>\n",
              "      <td>...</td>\n",
              "      <td>...</td>\n",
              "      <td>...</td>\n",
              "      <td>...</td>\n",
              "      <td>...</td>\n",
              "      <td>...</td>\n",
              "      <td>...</td>\n",
              "      <td>...</td>\n",
              "    </tr>\n",
              "    <tr>\n",
              "      <th>21608</th>\n",
              "      <td>263000018</td>\n",
              "      <td>360000</td>\n",
              "      <td>3</td>\n",
              "      <td>2</td>\n",
              "      <td>1530</td>\n",
              "      <td>1131</td>\n",
              "      <td>3</td>\n",
              "      <td>0</td>\n",
              "      <td>0</td>\n",
              "      <td>3</td>\n",
              "      <td>8</td>\n",
              "      <td>1530</td>\n",
              "      <td>0</td>\n",
              "      <td>2009</td>\n",
              "      <td>0</td>\n",
              "      <td>98103</td>\n",
              "      <td>47.6993</td>\n",
              "      <td>-122.346</td>\n",
              "      <td>1530</td>\n",
              "      <td>1509</td>\n",
              "    </tr>\n",
              "    <tr>\n",
              "      <th>21609</th>\n",
              "      <td>6600060120</td>\n",
              "      <td>400000</td>\n",
              "      <td>4</td>\n",
              "      <td>2</td>\n",
              "      <td>2310</td>\n",
              "      <td>5813</td>\n",
              "      <td>2</td>\n",
              "      <td>0</td>\n",
              "      <td>0</td>\n",
              "      <td>3</td>\n",
              "      <td>8</td>\n",
              "      <td>2310</td>\n",
              "      <td>0</td>\n",
              "      <td>2014</td>\n",
              "      <td>0</td>\n",
              "      <td>98146</td>\n",
              "      <td>47.5107</td>\n",
              "      <td>-122.362</td>\n",
              "      <td>1830</td>\n",
              "      <td>7200</td>\n",
              "    </tr>\n",
              "    <tr>\n",
              "      <th>21610</th>\n",
              "      <td>1523300141</td>\n",
              "      <td>402101</td>\n",
              "      <td>2</td>\n",
              "      <td>0</td>\n",
              "      <td>1020</td>\n",
              "      <td>1350</td>\n",
              "      <td>2</td>\n",
              "      <td>0</td>\n",
              "      <td>0</td>\n",
              "      <td>3</td>\n",
              "      <td>7</td>\n",
              "      <td>1020</td>\n",
              "      <td>0</td>\n",
              "      <td>2009</td>\n",
              "      <td>0</td>\n",
              "      <td>98144</td>\n",
              "      <td>47.5944</td>\n",
              "      <td>-122.299</td>\n",
              "      <td>1020</td>\n",
              "      <td>2007</td>\n",
              "    </tr>\n",
              "    <tr>\n",
              "      <th>21611</th>\n",
              "      <td>291310100</td>\n",
              "      <td>400000</td>\n",
              "      <td>3</td>\n",
              "      <td>2</td>\n",
              "      <td>1600</td>\n",
              "      <td>2388</td>\n",
              "      <td>2</td>\n",
              "      <td>0</td>\n",
              "      <td>0</td>\n",
              "      <td>3</td>\n",
              "      <td>8</td>\n",
              "      <td>1600</td>\n",
              "      <td>0</td>\n",
              "      <td>2004</td>\n",
              "      <td>0</td>\n",
              "      <td>98027</td>\n",
              "      <td>47.5345</td>\n",
              "      <td>-122.069</td>\n",
              "      <td>1410</td>\n",
              "      <td>1287</td>\n",
              "    </tr>\n",
              "    <tr>\n",
              "      <th>21612</th>\n",
              "      <td>1523300157</td>\n",
              "      <td>325000</td>\n",
              "      <td>2</td>\n",
              "      <td>0</td>\n",
              "      <td>1020</td>\n",
              "      <td>1076</td>\n",
              "      <td>2</td>\n",
              "      <td>0</td>\n",
              "      <td>0</td>\n",
              "      <td>3</td>\n",
              "      <td>7</td>\n",
              "      <td>1020</td>\n",
              "      <td>0</td>\n",
              "      <td>2008</td>\n",
              "      <td>0</td>\n",
              "      <td>98144</td>\n",
              "      <td>47.5941</td>\n",
              "      <td>-122.299</td>\n",
              "      <td>1020</td>\n",
              "      <td>1357</td>\n",
              "    </tr>\n",
              "  </tbody>\n",
              "</table>\n",
              "<p>21610 rows × 20 columns</p>\n",
              "</div>"
            ],
            "text/plain": [
              "               id   price  bedrooms  ...     long  sqft_living15  sqft_lot15\n",
              "0      7129300520  221900         3  ... -122.257           1340        5650\n",
              "1      6414100192  538000         3  ... -122.319           1690        7639\n",
              "2      5631500400  180000         2  ... -122.233           2720        8062\n",
              "3      2487200875  604000         4  ... -122.393           1360        5000\n",
              "4      1954400510  510000         3  ... -122.045           1800        7503\n",
              "...           ...     ...       ...  ...      ...            ...         ...\n",
              "21608   263000018  360000         3  ... -122.346           1530        1509\n",
              "21609  6600060120  400000         4  ... -122.362           1830        7200\n",
              "21610  1523300141  402101         2  ... -122.299           1020        2007\n",
              "21611   291310100  400000         3  ... -122.069           1410        1287\n",
              "21612  1523300157  325000         2  ... -122.299           1020        1357\n",
              "\n",
              "[21610 rows x 20 columns]"
            ]
          },
          "metadata": {
            "tags": []
          },
          "execution_count": 42
        }
      ]
    },
    {
      "cell_type": "code",
      "metadata": {
        "id": "DRYj_ZA8qvCw"
      },
      "source": [
        "# Encoding the categorical columns \n",
        "#\n",
        "from sklearn.preprocessing import LabelEncoder\n",
        "le = LabelEncoder()\n",
        "housem =housem.apply(le.fit_transform)"
      ],
      "execution_count": 43,
      "outputs": []
    },
    {
      "cell_type": "code",
      "metadata": {
        "colab": {
          "base_uri": "https://localhost:8080/",
          "height": 126
        },
        "id": "JaASTVLVm4jL",
        "outputId": "89e1bfb0-44a4-42d0-e25e-b073a001e10a"
      },
      "source": [
        "housem.head(2)"
      ],
      "execution_count": 44,
      "outputs": [
        {
          "output_type": "execute_result",
          "data": {
            "text/html": [
              "<div>\n",
              "<style scoped>\n",
              "    .dataframe tbody tr th:only-of-type {\n",
              "        vertical-align: middle;\n",
              "    }\n",
              "\n",
              "    .dataframe tbody tr th {\n",
              "        vertical-align: top;\n",
              "    }\n",
              "\n",
              "    .dataframe thead th {\n",
              "        text-align: right;\n",
              "    }\n",
              "</style>\n",
              "<table border=\"1\" class=\"dataframe\">\n",
              "  <thead>\n",
              "    <tr style=\"text-align: right;\">\n",
              "      <th></th>\n",
              "      <th>id</th>\n",
              "      <th>price</th>\n",
              "      <th>bedrooms</th>\n",
              "      <th>bathrooms</th>\n",
              "      <th>sqft_living</th>\n",
              "      <th>sqft_lot</th>\n",
              "      <th>floors</th>\n",
              "      <th>waterfront</th>\n",
              "      <th>view</th>\n",
              "      <th>condition</th>\n",
              "      <th>grade</th>\n",
              "      <th>sqft_above</th>\n",
              "      <th>sqft_basement</th>\n",
              "      <th>yr_built</th>\n",
              "      <th>yr_renovated</th>\n",
              "      <th>zipcode</th>\n",
              "      <th>lat</th>\n",
              "      <th>long</th>\n",
              "      <th>sqft_living15</th>\n",
              "      <th>sqft_lot15</th>\n",
              "    </tr>\n",
              "  </thead>\n",
              "  <tbody>\n",
              "    <tr>\n",
              "      <th>0</th>\n",
              "      <td>15339</td>\n",
              "      <td>349</td>\n",
              "      <td>3</td>\n",
              "      <td>1</td>\n",
              "      <td>109</td>\n",
              "      <td>2535</td>\n",
              "      <td>0</td>\n",
              "      <td>0</td>\n",
              "      <td>0</td>\n",
              "      <td>2</td>\n",
              "      <td>5</td>\n",
              "      <td>123</td>\n",
              "      <td>0</td>\n",
              "      <td>55</td>\n",
              "      <td>0</td>\n",
              "      <td>66</td>\n",
              "      <td>2398</td>\n",
              "      <td>223</td>\n",
              "      <td>109</td>\n",
              "      <td>2164</td>\n",
              "    </tr>\n",
              "    <tr>\n",
              "      <th>1</th>\n",
              "      <td>14466</td>\n",
              "      <td>2091</td>\n",
              "      <td>3</td>\n",
              "      <td>2</td>\n",
              "      <td>506</td>\n",
              "      <td>3578</td>\n",
              "      <td>1</td>\n",
              "      <td>0</td>\n",
              "      <td>0</td>\n",
              "      <td>2</td>\n",
              "      <td>5</td>\n",
              "      <td>395</td>\n",
              "      <td>56</td>\n",
              "      <td>51</td>\n",
              "      <td>45</td>\n",
              "      <td>55</td>\n",
              "      <td>4478</td>\n",
              "      <td>161</td>\n",
              "      <td>208</td>\n",
              "      <td>3470</td>\n",
              "    </tr>\n",
              "  </tbody>\n",
              "</table>\n",
              "</div>"
            ],
            "text/plain": [
              "      id  price  bedrooms  bathrooms  ...   lat  long  sqft_living15  sqft_lot15\n",
              "0  15339    349         3          1  ...  2398   223            109        2164\n",
              "1  14466   2091         3          2  ...  4478   161            208        3470\n",
              "\n",
              "[2 rows x 20 columns]"
            ]
          },
          "metadata": {
            "tags": []
          },
          "execution_count": 44
        }
      ]
    },
    {
      "cell_type": "code",
      "metadata": {
        "colab": {
          "base_uri": "https://localhost:8080/",
          "height": 659
        },
        "id": "ZFYCOak_loKQ",
        "outputId": "c95d23c2-58ee-487e-dadb-83044d30a1d8"
      },
      "source": [
        "correlation = housem.corr()\n",
        "correlation"
      ],
      "execution_count": 45,
      "outputs": [
        {
          "output_type": "execute_result",
          "data": {
            "text/html": [
              "<div>\n",
              "<style scoped>\n",
              "    .dataframe tbody tr th:only-of-type {\n",
              "        vertical-align: middle;\n",
              "    }\n",
              "\n",
              "    .dataframe tbody tr th {\n",
              "        vertical-align: top;\n",
              "    }\n",
              "\n",
              "    .dataframe thead th {\n",
              "        text-align: right;\n",
              "    }\n",
              "</style>\n",
              "<table border=\"1\" class=\"dataframe\">\n",
              "  <thead>\n",
              "    <tr style=\"text-align: right;\">\n",
              "      <th></th>\n",
              "      <th>id</th>\n",
              "      <th>price</th>\n",
              "      <th>bedrooms</th>\n",
              "      <th>bathrooms</th>\n",
              "      <th>sqft_living</th>\n",
              "      <th>sqft_lot</th>\n",
              "      <th>floors</th>\n",
              "      <th>waterfront</th>\n",
              "      <th>view</th>\n",
              "      <th>condition</th>\n",
              "      <th>grade</th>\n",
              "      <th>sqft_above</th>\n",
              "      <th>sqft_basement</th>\n",
              "      <th>yr_built</th>\n",
              "      <th>yr_renovated</th>\n",
              "      <th>zipcode</th>\n",
              "      <th>lat</th>\n",
              "      <th>long</th>\n",
              "      <th>sqft_living15</th>\n",
              "      <th>sqft_lot15</th>\n",
              "    </tr>\n",
              "  </thead>\n",
              "  <tbody>\n",
              "    <tr>\n",
              "      <th>id</th>\n",
              "      <td>1.000000</td>\n",
              "      <td>0.000433</td>\n",
              "      <td>0.003036</td>\n",
              "      <td>-0.001864</td>\n",
              "      <td>-0.007692</td>\n",
              "      <td>-0.132920</td>\n",
              "      <td>0.016424</td>\n",
              "      <td>-0.003567</td>\n",
              "      <td>0.012715</td>\n",
              "      <td>-0.021598</td>\n",
              "      <td>0.007731</td>\n",
              "      <td>-0.008839</td>\n",
              "      <td>-0.002122</td>\n",
              "      <td>0.019188</td>\n",
              "      <td>-0.015350</td>\n",
              "      <td>-0.006380</td>\n",
              "      <td>-0.002298</td>\n",
              "      <td>0.015317</td>\n",
              "      <td>-0.002403</td>\n",
              "      <td>-0.129253</td>\n",
              "    </tr>\n",
              "    <tr>\n",
              "      <th>price</th>\n",
              "      <td>0.000433</td>\n",
              "      <td>1.000000</td>\n",
              "      <td>0.340194</td>\n",
              "      <td>0.476042</td>\n",
              "      <td>0.672278</td>\n",
              "      <td>0.119068</td>\n",
              "      <td>0.280358</td>\n",
              "      <td>0.122941</td>\n",
              "      <td>0.307818</td>\n",
              "      <td>0.037854</td>\n",
              "      <td>0.676963</td>\n",
              "      <td>0.575311</td>\n",
              "      <td>0.289069</td>\n",
              "      <td>0.068400</td>\n",
              "      <td>0.115796</td>\n",
              "      <td>-0.014613</td>\n",
              "      <td>0.467980</td>\n",
              "      <td>0.064044</td>\n",
              "      <td>0.604665</td>\n",
              "      <td>0.107793</td>\n",
              "    </tr>\n",
              "    <tr>\n",
              "      <th>bedrooms</th>\n",
              "      <td>0.003036</td>\n",
              "      <td>0.340194</td>\n",
              "      <td>1.000000</td>\n",
              "      <td>0.478991</td>\n",
              "      <td>0.607942</td>\n",
              "      <td>0.194786</td>\n",
              "      <td>0.159983</td>\n",
              "      <td>-0.006636</td>\n",
              "      <td>0.081524</td>\n",
              "      <td>0.026443</td>\n",
              "      <td>0.365457</td>\n",
              "      <td>0.491274</td>\n",
              "      <td>0.307178</td>\n",
              "      <td>0.158575</td>\n",
              "      <td>0.029051</td>\n",
              "      <td>-0.155832</td>\n",
              "      <td>-0.011218</td>\n",
              "      <td>0.138122</td>\n",
              "      <td>0.407314</td>\n",
              "      <td>0.177666</td>\n",
              "    </tr>\n",
              "    <tr>\n",
              "      <th>bathrooms</th>\n",
              "      <td>-0.001864</td>\n",
              "      <td>0.476042</td>\n",
              "      <td>0.478991</td>\n",
              "      <td>1.000000</td>\n",
              "      <td>0.679410</td>\n",
              "      <td>0.088250</td>\n",
              "      <td>0.484886</td>\n",
              "      <td>0.058799</td>\n",
              "      <td>0.177497</td>\n",
              "      <td>-0.125962</td>\n",
              "      <td>0.606692</td>\n",
              "      <td>0.626466</td>\n",
              "      <td>0.241525</td>\n",
              "      <td>0.433608</td>\n",
              "      <td>0.074072</td>\n",
              "      <td>-0.149897</td>\n",
              "      <td>0.030325</td>\n",
              "      <td>0.184822</td>\n",
              "      <td>0.501519</td>\n",
              "      <td>0.080153</td>\n",
              "    </tr>\n",
              "    <tr>\n",
              "      <th>sqft_living</th>\n",
              "      <td>-0.007692</td>\n",
              "      <td>0.672278</td>\n",
              "      <td>0.607942</td>\n",
              "      <td>0.679410</td>\n",
              "      <td>1.000000</td>\n",
              "      <td>0.339110</td>\n",
              "      <td>0.362667</td>\n",
              "      <td>0.087241</td>\n",
              "      <td>0.265243</td>\n",
              "      <td>-0.058291</td>\n",
              "      <td>0.752385</td>\n",
              "      <td>0.864306</td>\n",
              "      <td>0.412695</td>\n",
              "      <td>0.330178</td>\n",
              "      <td>0.062730</td>\n",
              "      <td>-0.196734</td>\n",
              "      <td>0.047716</td>\n",
              "      <td>0.259488</td>\n",
              "      <td>0.765149</td>\n",
              "      <td>0.319284</td>\n",
              "    </tr>\n",
              "    <tr>\n",
              "      <th>sqft_lot</th>\n",
              "      <td>-0.132920</td>\n",
              "      <td>0.119068</td>\n",
              "      <td>0.194786</td>\n",
              "      <td>0.088250</td>\n",
              "      <td>0.339110</td>\n",
              "      <td>1.000000</td>\n",
              "      <td>-0.198239</td>\n",
              "      <td>0.092938</td>\n",
              "      <td>0.132915</td>\n",
              "      <td>0.076393</td>\n",
              "      <td>0.217416</td>\n",
              "      <td>0.309572</td>\n",
              "      <td>0.107137</td>\n",
              "      <td>0.040848</td>\n",
              "      <td>0.008438</td>\n",
              "      <td>-0.311335</td>\n",
              "      <td>-0.129700</td>\n",
              "      <td>0.364203</td>\n",
              "      <td>0.383079</td>\n",
              "      <td>0.922510</td>\n",
              "    </tr>\n",
              "    <tr>\n",
              "      <th>floors</th>\n",
              "      <td>0.016424</td>\n",
              "      <td>0.280358</td>\n",
              "      <td>0.159983</td>\n",
              "      <td>0.484886</td>\n",
              "      <td>0.362667</td>\n",
              "      <td>-0.198239</td>\n",
              "      <td>1.000000</td>\n",
              "      <td>0.019654</td>\n",
              "      <td>0.024528</td>\n",
              "      <td>-0.293188</td>\n",
              "      <td>0.472643</td>\n",
              "      <td>0.539814</td>\n",
              "      <td>-0.243083</td>\n",
              "      <td>0.578663</td>\n",
              "      <td>-0.005136</td>\n",
              "      <td>-0.076054</td>\n",
              "      <td>0.028434</td>\n",
              "      <td>0.162706</td>\n",
              "      <td>0.299948</td>\n",
              "      <td>-0.188059</td>\n",
              "    </tr>\n",
              "    <tr>\n",
              "      <th>waterfront</th>\n",
              "      <td>-0.003567</td>\n",
              "      <td>0.122941</td>\n",
              "      <td>-0.006636</td>\n",
              "      <td>0.058799</td>\n",
              "      <td>0.087241</td>\n",
              "      <td>0.092938</td>\n",
              "      <td>0.019654</td>\n",
              "      <td>1.000000</td>\n",
              "      <td>0.401993</td>\n",
              "      <td>0.016652</td>\n",
              "      <td>0.082798</td>\n",
              "      <td>0.065349</td>\n",
              "      <td>0.072785</td>\n",
              "      <td>-0.026159</td>\n",
              "      <td>0.073731</td>\n",
              "      <td>0.029114</td>\n",
              "      <td>-0.015472</td>\n",
              "      <td>-0.040622</td>\n",
              "      <td>0.085077</td>\n",
              "      <td>0.101411</td>\n",
              "    </tr>\n",
              "    <tr>\n",
              "      <th>view</th>\n",
              "      <td>0.012715</td>\n",
              "      <td>0.307818</td>\n",
              "      <td>0.081524</td>\n",
              "      <td>0.177497</td>\n",
              "      <td>0.265243</td>\n",
              "      <td>0.132915</td>\n",
              "      <td>0.024528</td>\n",
              "      <td>0.401993</td>\n",
              "      <td>1.000000</td>\n",
              "      <td>0.045836</td>\n",
              "      <td>0.251417</td>\n",
              "      <td>0.158330</td>\n",
              "      <td>0.268505</td>\n",
              "      <td>-0.053229</td>\n",
              "      <td>0.093469</td>\n",
              "      <td>0.071338</td>\n",
              "      <td>0.006302</td>\n",
              "      <td>-0.079161</td>\n",
              "      <td>0.275185</td>\n",
              "      <td>0.131601</td>\n",
              "    </tr>\n",
              "    <tr>\n",
              "      <th>condition</th>\n",
              "      <td>-0.021598</td>\n",
              "      <td>0.037854</td>\n",
              "      <td>0.026443</td>\n",
              "      <td>-0.125962</td>\n",
              "      <td>-0.058291</td>\n",
              "      <td>0.076393</td>\n",
              "      <td>-0.293188</td>\n",
              "      <td>0.016652</td>\n",
              "      <td>0.045836</td>\n",
              "      <td>1.000000</td>\n",
              "      <td>-0.144830</td>\n",
              "      <td>-0.166535</td>\n",
              "      <td>0.177970</td>\n",
              "      <td>-0.361347</td>\n",
              "      <td>-0.075544</td>\n",
              "      <td>-0.006397</td>\n",
              "      <td>-0.013041</td>\n",
              "      <td>-0.106821</td>\n",
              "      <td>-0.092336</td>\n",
              "      <td>0.080645</td>\n",
              "    </tr>\n",
              "    <tr>\n",
              "      <th>grade</th>\n",
              "      <td>0.007731</td>\n",
              "      <td>0.676963</td>\n",
              "      <td>0.365457</td>\n",
              "      <td>0.606692</td>\n",
              "      <td>0.752385</td>\n",
              "      <td>0.217416</td>\n",
              "      <td>0.472643</td>\n",
              "      <td>0.082798</td>\n",
              "      <td>0.251417</td>\n",
              "      <td>-0.144830</td>\n",
              "      <td>1.000000</td>\n",
              "      <td>0.748278</td>\n",
              "      <td>0.157971</td>\n",
              "      <td>0.447047</td>\n",
              "      <td>0.028284</td>\n",
              "      <td>-0.175022</td>\n",
              "      <td>0.112937</td>\n",
              "      <td>0.204446</td>\n",
              "      <td>0.702026</td>\n",
              "      <td>0.220726</td>\n",
              "    </tr>\n",
              "    <tr>\n",
              "      <th>sqft_above</th>\n",
              "      <td>-0.008839</td>\n",
              "      <td>0.575311</td>\n",
              "      <td>0.491274</td>\n",
              "      <td>0.626466</td>\n",
              "      <td>0.864306</td>\n",
              "      <td>0.309572</td>\n",
              "      <td>0.539814</td>\n",
              "      <td>0.065349</td>\n",
              "      <td>0.158330</td>\n",
              "      <td>-0.166535</td>\n",
              "      <td>0.748278</td>\n",
              "      <td>1.000000</td>\n",
              "      <td>-0.083872</td>\n",
              "      <td>0.438901</td>\n",
              "      <td>0.026938</td>\n",
              "      <td>-0.249550</td>\n",
              "      <td>-0.008108</td>\n",
              "      <td>0.363210</td>\n",
              "      <td>0.731760</td>\n",
              "      <td>0.294083</td>\n",
              "    </tr>\n",
              "    <tr>\n",
              "      <th>sqft_basement</th>\n",
              "      <td>-0.002122</td>\n",
              "      <td>0.289069</td>\n",
              "      <td>0.307178</td>\n",
              "      <td>0.241525</td>\n",
              "      <td>0.412695</td>\n",
              "      <td>0.107137</td>\n",
              "      <td>-0.243083</td>\n",
              "      <td>0.072785</td>\n",
              "      <td>0.268505</td>\n",
              "      <td>0.177970</td>\n",
              "      <td>0.157971</td>\n",
              "      <td>-0.083872</td>\n",
              "      <td>1.000000</td>\n",
              "      <td>-0.138748</td>\n",
              "      <td>0.080191</td>\n",
              "      <td>0.062966</td>\n",
              "      <td>0.109729</td>\n",
              "      <td>-0.151371</td>\n",
              "      <td>0.188803</td>\n",
              "      <td>0.096100</td>\n",
              "    </tr>\n",
              "    <tr>\n",
              "      <th>yr_built</th>\n",
              "      <td>0.019188</td>\n",
              "      <td>0.068400</td>\n",
              "      <td>0.158575</td>\n",
              "      <td>0.433608</td>\n",
              "      <td>0.330178</td>\n",
              "      <td>0.040848</td>\n",
              "      <td>0.578663</td>\n",
              "      <td>-0.026159</td>\n",
              "      <td>-0.053229</td>\n",
              "      <td>-0.361347</td>\n",
              "      <td>0.447047</td>\n",
              "      <td>0.438901</td>\n",
              "      <td>-0.138748</td>\n",
              "      <td>1.000000</td>\n",
              "      <td>-0.203461</td>\n",
              "      <td>-0.327220</td>\n",
              "      <td>-0.147237</td>\n",
              "      <td>0.416251</td>\n",
              "      <td>0.335011</td>\n",
              "      <td>0.066068</td>\n",
              "    </tr>\n",
              "    <tr>\n",
              "      <th>yr_renovated</th>\n",
              "      <td>-0.015350</td>\n",
              "      <td>0.115796</td>\n",
              "      <td>0.029051</td>\n",
              "      <td>0.074072</td>\n",
              "      <td>0.062730</td>\n",
              "      <td>0.008438</td>\n",
              "      <td>-0.005136</td>\n",
              "      <td>0.073731</td>\n",
              "      <td>0.093469</td>\n",
              "      <td>-0.075544</td>\n",
              "      <td>0.028284</td>\n",
              "      <td>0.026938</td>\n",
              "      <td>0.080191</td>\n",
              "      <td>-0.203461</td>\n",
              "      <td>1.000000</td>\n",
              "      <td>0.059905</td>\n",
              "      <td>0.029742</td>\n",
              "      <td>-0.067256</td>\n",
              "      <td>-0.000812</td>\n",
              "      <td>0.008137</td>\n",
              "    </tr>\n",
              "    <tr>\n",
              "      <th>zipcode</th>\n",
              "      <td>-0.006380</td>\n",
              "      <td>-0.014613</td>\n",
              "      <td>-0.155832</td>\n",
              "      <td>-0.149897</td>\n",
              "      <td>-0.196734</td>\n",
              "      <td>-0.311335</td>\n",
              "      <td>-0.076054</td>\n",
              "      <td>0.029114</td>\n",
              "      <td>0.071338</td>\n",
              "      <td>-0.006397</td>\n",
              "      <td>-0.175022</td>\n",
              "      <td>-0.249550</td>\n",
              "      <td>0.062966</td>\n",
              "      <td>-0.327220</td>\n",
              "      <td>0.059905</td>\n",
              "      <td>1.000000</td>\n",
              "      <td>0.292134</td>\n",
              "      <td>-0.523779</td>\n",
              "      <td>-0.276078</td>\n",
              "      <td>-0.321167</td>\n",
              "    </tr>\n",
              "    <tr>\n",
              "      <th>lat</th>\n",
              "      <td>-0.002298</td>\n",
              "      <td>0.467980</td>\n",
              "      <td>-0.011218</td>\n",
              "      <td>0.030325</td>\n",
              "      <td>0.047716</td>\n",
              "      <td>-0.129700</td>\n",
              "      <td>0.028434</td>\n",
              "      <td>-0.015472</td>\n",
              "      <td>0.006302</td>\n",
              "      <td>-0.013041</td>\n",
              "      <td>0.112937</td>\n",
              "      <td>-0.008108</td>\n",
              "      <td>0.109729</td>\n",
              "      <td>-0.147237</td>\n",
              "      <td>0.029742</td>\n",
              "      <td>0.292134</td>\n",
              "      <td>1.000000</td>\n",
              "      <td>-0.136914</td>\n",
              "      <td>0.041872</td>\n",
              "      <td>-0.124523</td>\n",
              "    </tr>\n",
              "    <tr>\n",
              "      <th>long</th>\n",
              "      <td>0.015317</td>\n",
              "      <td>0.064044</td>\n",
              "      <td>0.138122</td>\n",
              "      <td>0.184822</td>\n",
              "      <td>0.259488</td>\n",
              "      <td>0.364203</td>\n",
              "      <td>0.162706</td>\n",
              "      <td>-0.040622</td>\n",
              "      <td>-0.079161</td>\n",
              "      <td>-0.106821</td>\n",
              "      <td>0.204446</td>\n",
              "      <td>0.363210</td>\n",
              "      <td>-0.151371</td>\n",
              "      <td>0.416251</td>\n",
              "      <td>-0.067256</td>\n",
              "      <td>-0.523779</td>\n",
              "      <td>-0.136914</td>\n",
              "      <td>1.000000</td>\n",
              "      <td>0.352222</td>\n",
              "      <td>0.369466</td>\n",
              "    </tr>\n",
              "    <tr>\n",
              "      <th>sqft_living15</th>\n",
              "      <td>-0.002403</td>\n",
              "      <td>0.604665</td>\n",
              "      <td>0.407314</td>\n",
              "      <td>0.501519</td>\n",
              "      <td>0.765149</td>\n",
              "      <td>0.383079</td>\n",
              "      <td>0.299948</td>\n",
              "      <td>0.085077</td>\n",
              "      <td>0.275185</td>\n",
              "      <td>-0.092336</td>\n",
              "      <td>0.702026</td>\n",
              "      <td>0.731760</td>\n",
              "      <td>0.188803</td>\n",
              "      <td>0.335011</td>\n",
              "      <td>-0.000812</td>\n",
              "      <td>-0.276078</td>\n",
              "      <td>0.041872</td>\n",
              "      <td>0.352222</td>\n",
              "      <td>1.000000</td>\n",
              "      <td>0.392003</td>\n",
              "    </tr>\n",
              "    <tr>\n",
              "      <th>sqft_lot15</th>\n",
              "      <td>-0.129253</td>\n",
              "      <td>0.107793</td>\n",
              "      <td>0.177666</td>\n",
              "      <td>0.080153</td>\n",
              "      <td>0.319284</td>\n",
              "      <td>0.922510</td>\n",
              "      <td>-0.188059</td>\n",
              "      <td>0.101411</td>\n",
              "      <td>0.131601</td>\n",
              "      <td>0.080645</td>\n",
              "      <td>0.220726</td>\n",
              "      <td>0.294083</td>\n",
              "      <td>0.096100</td>\n",
              "      <td>0.066068</td>\n",
              "      <td>0.008137</td>\n",
              "      <td>-0.321167</td>\n",
              "      <td>-0.124523</td>\n",
              "      <td>0.369466</td>\n",
              "      <td>0.392003</td>\n",
              "      <td>1.000000</td>\n",
              "    </tr>\n",
              "  </tbody>\n",
              "</table>\n",
              "</div>"
            ],
            "text/plain": [
              "                     id     price  ...  sqft_living15  sqft_lot15\n",
              "id             1.000000  0.000433  ...      -0.002403   -0.129253\n",
              "price          0.000433  1.000000  ...       0.604665    0.107793\n",
              "bedrooms       0.003036  0.340194  ...       0.407314    0.177666\n",
              "bathrooms     -0.001864  0.476042  ...       0.501519    0.080153\n",
              "sqft_living   -0.007692  0.672278  ...       0.765149    0.319284\n",
              "sqft_lot      -0.132920  0.119068  ...       0.383079    0.922510\n",
              "floors         0.016424  0.280358  ...       0.299948   -0.188059\n",
              "waterfront    -0.003567  0.122941  ...       0.085077    0.101411\n",
              "view           0.012715  0.307818  ...       0.275185    0.131601\n",
              "condition     -0.021598  0.037854  ...      -0.092336    0.080645\n",
              "grade          0.007731  0.676963  ...       0.702026    0.220726\n",
              "sqft_above    -0.008839  0.575311  ...       0.731760    0.294083\n",
              "sqft_basement -0.002122  0.289069  ...       0.188803    0.096100\n",
              "yr_built       0.019188  0.068400  ...       0.335011    0.066068\n",
              "yr_renovated  -0.015350  0.115796  ...      -0.000812    0.008137\n",
              "zipcode       -0.006380 -0.014613  ...      -0.276078   -0.321167\n",
              "lat           -0.002298  0.467980  ...       0.041872   -0.124523\n",
              "long           0.015317  0.064044  ...       0.352222    0.369466\n",
              "sqft_living15 -0.002403  0.604665  ...       1.000000    0.392003\n",
              "sqft_lot15    -0.129253  0.107793  ...       0.392003    1.000000\n",
              "\n",
              "[20 rows x 20 columns]"
            ]
          },
          "metadata": {
            "tags": []
          },
          "execution_count": 45
        }
      ]
    },
    {
      "cell_type": "markdown",
      "metadata": {
        "id": "2cgdyVRusdb5"
      },
      "source": [
        "some features are highly positively correlated eg sqft_above and sqft*-living  with a correlation of 0.88\n",
        "some features are weakly  positively correlated eg year renovated  and grade of a house  with a correlation of 0.0014\n",
        "others have a negative correlation eg year buily and year renovated\n"
      ]
    },
    {
      "cell_type": "code",
      "metadata": {
        "colab": {
          "base_uri": "https://localhost:8080/",
          "height": 659
        },
        "id": "k8egYOFRsrRh",
        "outputId": "451b343d-4c55-4331-89b7-9593a9d72495"
      },
      "source": [
        "# checking for multicollinearity\n",
        "# Using the variance Inflation Factor (VIF)\n",
        "# \n",
        "# This is calculated using linear algebra inverse function\n",
        "\n",
        "pd.DataFrame(np.linalg.inv(correlation.values), index = correlation.index, columns = correlation.columns)\n"
      ],
      "execution_count": 46,
      "outputs": [
        {
          "output_type": "execute_result",
          "data": {
            "text/html": [
              "<div>\n",
              "<style scoped>\n",
              "    .dataframe tbody tr th:only-of-type {\n",
              "        vertical-align: middle;\n",
              "    }\n",
              "\n",
              "    .dataframe tbody tr th {\n",
              "        vertical-align: top;\n",
              "    }\n",
              "\n",
              "    .dataframe thead th {\n",
              "        text-align: right;\n",
              "    }\n",
              "</style>\n",
              "<table border=\"1\" class=\"dataframe\">\n",
              "  <thead>\n",
              "    <tr style=\"text-align: right;\">\n",
              "      <th></th>\n",
              "      <th>id</th>\n",
              "      <th>price</th>\n",
              "      <th>bedrooms</th>\n",
              "      <th>bathrooms</th>\n",
              "      <th>sqft_living</th>\n",
              "      <th>sqft_lot</th>\n",
              "      <th>floors</th>\n",
              "      <th>waterfront</th>\n",
              "      <th>view</th>\n",
              "      <th>condition</th>\n",
              "      <th>grade</th>\n",
              "      <th>sqft_above</th>\n",
              "      <th>sqft_basement</th>\n",
              "      <th>yr_built</th>\n",
              "      <th>yr_renovated</th>\n",
              "      <th>zipcode</th>\n",
              "      <th>lat</th>\n",
              "      <th>long</th>\n",
              "      <th>sqft_living15</th>\n",
              "      <th>sqft_lot15</th>\n",
              "    </tr>\n",
              "  </thead>\n",
              "  <tbody>\n",
              "    <tr>\n",
              "      <th>id</th>\n",
              "      <td>1.031246</td>\n",
              "      <td>0.033467</td>\n",
              "      <td>-0.018513</td>\n",
              "      <td>0.030932</td>\n",
              "      <td>-0.135041</td>\n",
              "      <td>0.137225</td>\n",
              "      <td>0.064238</td>\n",
              "      <td>-0.006319</td>\n",
              "      <td>-0.038242</td>\n",
              "      <td>0.011735</td>\n",
              "      <td>-0.055875</td>\n",
              "      <td>0.101934</td>\n",
              "      <td>0.057511</td>\n",
              "      <td>0.007003</td>\n",
              "      <td>0.010941</td>\n",
              "      <td>0.025588</td>\n",
              "      <td>0.004512</td>\n",
              "      <td>-0.075194</td>\n",
              "      <td>-0.032315</td>\n",
              "      <td>0.089333</td>\n",
              "    </tr>\n",
              "    <tr>\n",
              "      <th>price</th>\n",
              "      <td>0.033467</td>\n",
              "      <td>4.008550</td>\n",
              "      <td>0.134796</td>\n",
              "      <td>-0.147141</td>\n",
              "      <td>-2.778568</td>\n",
              "      <td>0.045969</td>\n",
              "      <td>-0.172386</td>\n",
              "      <td>-0.119946</td>\n",
              "      <td>-0.328319</td>\n",
              "      <td>-0.314932</td>\n",
              "      <td>-1.389557</td>\n",
              "      <td>1.365277</td>\n",
              "      <td>0.774469</td>\n",
              "      <td>0.792133</td>\n",
              "      <td>-0.139833</td>\n",
              "      <td>0.238211</td>\n",
              "      <td>-1.526910</td>\n",
              "      <td>-0.017303</td>\n",
              "      <td>-0.616707</td>\n",
              "      <td>0.367269</td>\n",
              "    </tr>\n",
              "    <tr>\n",
              "      <th>bedrooms</th>\n",
              "      <td>-0.018513</td>\n",
              "      <td>0.134796</td>\n",
              "      <td>1.729968</td>\n",
              "      <td>-0.342229</td>\n",
              "      <td>-1.514685</td>\n",
              "      <td>0.015974</td>\n",
              "      <td>0.093683</td>\n",
              "      <td>0.049968</td>\n",
              "      <td>0.102117</td>\n",
              "      <td>-0.062459</td>\n",
              "      <td>0.260369</td>\n",
              "      <td>0.241042</td>\n",
              "      <td>0.116455</td>\n",
              "      <td>0.077197</td>\n",
              "      <td>0.027320</td>\n",
              "      <td>0.108221</td>\n",
              "      <td>-0.016044</td>\n",
              "      <td>0.063336</td>\n",
              "      <td>0.067781</td>\n",
              "      <td>0.014097</td>\n",
              "    </tr>\n",
              "    <tr>\n",
              "      <th>bathrooms</th>\n",
              "      <td>0.030932</td>\n",
              "      <td>-0.147141</td>\n",
              "      <td>-0.342229</td>\n",
              "      <td>2.390946</td>\n",
              "      <td>0.862365</td>\n",
              "      <td>0.042018</td>\n",
              "      <td>-0.408711</td>\n",
              "      <td>-0.000643</td>\n",
              "      <td>-0.036799</td>\n",
              "      <td>-0.041145</td>\n",
              "      <td>-0.198555</td>\n",
              "      <td>-1.661301</td>\n",
              "      <td>-1.072179</td>\n",
              "      <td>-0.454747</td>\n",
              "      <td>-0.163920</td>\n",
              "      <td>0.007191</td>\n",
              "      <td>0.041080</td>\n",
              "      <td>0.008951</td>\n",
              "      <td>0.141471</td>\n",
              "      <td>0.121746</td>\n",
              "    </tr>\n",
              "    <tr>\n",
              "      <th>sqft_living</th>\n",
              "      <td>-0.135041</td>\n",
              "      <td>-2.778568</td>\n",
              "      <td>-1.514685</td>\n",
              "      <td>0.862365</td>\n",
              "      <td>68.569488</td>\n",
              "      <td>-0.504782</td>\n",
              "      <td>0.566441</td>\n",
              "      <td>0.295429</td>\n",
              "      <td>0.868633</td>\n",
              "      <td>-0.240077</td>\n",
              "      <td>1.407384</td>\n",
              "      <td>-59.981151</td>\n",
              "      <td>-32.424027</td>\n",
              "      <td>-1.294861</td>\n",
              "      <td>-0.192670</td>\n",
              "      <td>-0.590568</td>\n",
              "      <td>0.893030</td>\n",
              "      <td>0.056146</td>\n",
              "      <td>-1.674663</td>\n",
              "      <td>0.125325</td>\n",
              "    </tr>\n",
              "    <tr>\n",
              "      <th>sqft_lot</th>\n",
              "      <td>0.137225</td>\n",
              "      <td>0.045969</td>\n",
              "      <td>0.015974</td>\n",
              "      <td>0.042018</td>\n",
              "      <td>-0.504782</td>\n",
              "      <td>7.114023</td>\n",
              "      <td>0.462623</td>\n",
              "      <td>0.014158</td>\n",
              "      <td>-0.065555</td>\n",
              "      <td>0.101808</td>\n",
              "      <td>0.039332</td>\n",
              "      <td>-0.426361</td>\n",
              "      <td>0.021944</td>\n",
              "      <td>0.287247</td>\n",
              "      <td>0.073233</td>\n",
              "      <td>0.064389</td>\n",
              "      <td>0.114411</td>\n",
              "      <td>-0.250733</td>\n",
              "      <td>0.194604</td>\n",
              "      <td>-6.162730</td>\n",
              "    </tr>\n",
              "    <tr>\n",
              "      <th>floors</th>\n",
              "      <td>0.064238</td>\n",
              "      <td>-0.172386</td>\n",
              "      <td>0.093683</td>\n",
              "      <td>-0.408711</td>\n",
              "      <td>0.566441</td>\n",
              "      <td>0.462623</td>\n",
              "      <td>2.525110</td>\n",
              "      <td>-0.042029</td>\n",
              "      <td>-0.045825</td>\n",
              "      <td>0.056222</td>\n",
              "      <td>-0.144987</td>\n",
              "      <td>-1.350424</td>\n",
              "      <td>0.215657</td>\n",
              "      <td>-0.949002</td>\n",
              "      <td>-0.125794</td>\n",
              "      <td>-0.099933</td>\n",
              "      <td>-0.029410</td>\n",
              "      <td>0.084443</td>\n",
              "      <td>0.129530</td>\n",
              "      <td>0.270404</td>\n",
              "    </tr>\n",
              "    <tr>\n",
              "      <th>waterfront</th>\n",
              "      <td>-0.006319</td>\n",
              "      <td>-0.119946</td>\n",
              "      <td>0.049968</td>\n",
              "      <td>-0.000643</td>\n",
              "      <td>0.295429</td>\n",
              "      <td>0.014158</td>\n",
              "      <td>-0.042029</td>\n",
              "      <td>1.212677</td>\n",
              "      <td>-0.476921</td>\n",
              "      <td>0.001983</td>\n",
              "      <td>0.086698</td>\n",
              "      <td>-0.290614</td>\n",
              "      <td>-0.114553</td>\n",
              "      <td>-0.032312</td>\n",
              "      <td>-0.040095</td>\n",
              "      <td>-0.008387</td>\n",
              "      <td>0.052491</td>\n",
              "      <td>0.044111</td>\n",
              "      <td>0.079414</td>\n",
              "      <td>-0.136167</td>\n",
              "    </tr>\n",
              "    <tr>\n",
              "      <th>view</th>\n",
              "      <td>-0.038242</td>\n",
              "      <td>-0.328319</td>\n",
              "      <td>0.102117</td>\n",
              "      <td>-0.036799</td>\n",
              "      <td>0.868633</td>\n",
              "      <td>-0.065555</td>\n",
              "      <td>-0.045825</td>\n",
              "      <td>-0.476921</td>\n",
              "      <td>1.462732</td>\n",
              "      <td>0.005090</td>\n",
              "      <td>-0.074156</td>\n",
              "      <td>-0.637912</td>\n",
              "      <td>-0.621932</td>\n",
              "      <td>0.097522</td>\n",
              "      <td>-0.020854</td>\n",
              "      <td>-0.147210</td>\n",
              "      <td>0.239647</td>\n",
              "      <td>0.096565</td>\n",
              "      <td>-0.276592</td>\n",
              "      <td>-0.041999</td>\n",
              "    </tr>\n",
              "    <tr>\n",
              "      <th>condition</th>\n",
              "      <td>0.011735</td>\n",
              "      <td>-0.314932</td>\n",
              "      <td>-0.062459</td>\n",
              "      <td>-0.041145</td>\n",
              "      <td>-0.240077</td>\n",
              "      <td>0.101808</td>\n",
              "      <td>0.056222</td>\n",
              "      <td>0.001983</td>\n",
              "      <td>0.005090</td>\n",
              "      <td>1.280111</td>\n",
              "      <td>0.053710</td>\n",
              "      <td>0.331866</td>\n",
              "      <td>0.021921</td>\n",
              "      <td>0.467276</td>\n",
              "      <td>0.223336</td>\n",
              "      <td>0.130053</td>\n",
              "      <td>0.174572</td>\n",
              "      <td>-0.005172</td>\n",
              "      <td>0.147871</td>\n",
              "      <td>-0.197734</td>\n",
              "    </tr>\n",
              "    <tr>\n",
              "      <th>grade</th>\n",
              "      <td>-0.055875</td>\n",
              "      <td>-1.389557</td>\n",
              "      <td>0.260369</td>\n",
              "      <td>-0.198555</td>\n",
              "      <td>1.407384</td>\n",
              "      <td>0.039332</td>\n",
              "      <td>-0.144987</td>\n",
              "      <td>0.086698</td>\n",
              "      <td>-0.074156</td>\n",
              "      <td>0.053710</td>\n",
              "      <td>3.781597</td>\n",
              "      <td>-2.509943</td>\n",
              "      <td>-0.998542</td>\n",
              "      <td>-0.891462</td>\n",
              "      <td>-0.034301</td>\n",
              "      <td>0.004804</td>\n",
              "      <td>0.185414</td>\n",
              "      <td>0.419221</td>\n",
              "      <td>-0.585346</td>\n",
              "      <td>-0.246278</td>\n",
              "    </tr>\n",
              "    <tr>\n",
              "      <th>sqft_above</th>\n",
              "      <td>0.101934</td>\n",
              "      <td>1.365277</td>\n",
              "      <td>0.241042</td>\n",
              "      <td>-1.661301</td>\n",
              "      <td>-59.981151</td>\n",
              "      <td>-0.426361</td>\n",
              "      <td>-1.350424</td>\n",
              "      <td>-0.290614</td>\n",
              "      <td>-0.637912</td>\n",
              "      <td>0.331866</td>\n",
              "      <td>-2.509943</td>\n",
              "      <td>57.955275</td>\n",
              "      <td>29.894837</td>\n",
              "      <td>1.335663</td>\n",
              "      <td>0.171570</td>\n",
              "      <td>0.298309</td>\n",
              "      <td>-0.205164</td>\n",
              "      <td>-0.377001</td>\n",
              "      <td>0.062416</td>\n",
              "      <td>0.066251</td>\n",
              "    </tr>\n",
              "    <tr>\n",
              "      <th>sqft_basement</th>\n",
              "      <td>0.057511</td>\n",
              "      <td>0.774469</td>\n",
              "      <td>0.116455</td>\n",
              "      <td>-1.072179</td>\n",
              "      <td>-32.424027</td>\n",
              "      <td>0.021944</td>\n",
              "      <td>0.215657</td>\n",
              "      <td>-0.114553</td>\n",
              "      <td>-0.621932</td>\n",
              "      <td>0.021921</td>\n",
              "      <td>-0.998542</td>\n",
              "      <td>29.894837</td>\n",
              "      <td>17.313930</td>\n",
              "      <td>0.531819</td>\n",
              "      <td>0.039627</td>\n",
              "      <td>0.180445</td>\n",
              "      <td>-0.294893</td>\n",
              "      <td>0.127452</td>\n",
              "      <td>0.324772</td>\n",
              "      <td>0.030012</td>\n",
              "    </tr>\n",
              "    <tr>\n",
              "      <th>yr_built</th>\n",
              "      <td>0.007003</td>\n",
              "      <td>0.792133</td>\n",
              "      <td>0.077197</td>\n",
              "      <td>-0.454747</td>\n",
              "      <td>-1.294861</td>\n",
              "      <td>0.287247</td>\n",
              "      <td>-0.949002</td>\n",
              "      <td>-0.032312</td>\n",
              "      <td>0.097522</td>\n",
              "      <td>0.467276</td>\n",
              "      <td>-0.891462</td>\n",
              "      <td>1.335663</td>\n",
              "      <td>0.531819</td>\n",
              "      <td>2.611527</td>\n",
              "      <td>0.467042</td>\n",
              "      <td>0.305952</td>\n",
              "      <td>0.007126</td>\n",
              "      <td>-0.543971</td>\n",
              "      <td>-0.054076</td>\n",
              "      <td>-0.241163</td>\n",
              "    </tr>\n",
              "    <tr>\n",
              "      <th>yr_renovated</th>\n",
              "      <td>0.010941</td>\n",
              "      <td>-0.139833</td>\n",
              "      <td>0.027320</td>\n",
              "      <td>-0.163920</td>\n",
              "      <td>-0.192670</td>\n",
              "      <td>0.073233</td>\n",
              "      <td>-0.125794</td>\n",
              "      <td>-0.040095</td>\n",
              "      <td>-0.020854</td>\n",
              "      <td>0.223336</td>\n",
              "      <td>-0.034301</td>\n",
              "      <td>0.171570</td>\n",
              "      <td>0.039627</td>\n",
              "      <td>0.467042</td>\n",
              "      <td>1.142150</td>\n",
              "      <td>0.023464</td>\n",
              "      <td>0.096395</td>\n",
              "      <td>-0.047548</td>\n",
              "      <td>0.145394</td>\n",
              "      <td>-0.122858</td>\n",
              "    </tr>\n",
              "    <tr>\n",
              "      <th>zipcode</th>\n",
              "      <td>0.025588</td>\n",
              "      <td>0.238211</td>\n",
              "      <td>0.108221</td>\n",
              "      <td>0.007191</td>\n",
              "      <td>-0.590568</td>\n",
              "      <td>0.064389</td>\n",
              "      <td>-0.099933</td>\n",
              "      <td>-0.008387</td>\n",
              "      <td>-0.147210</td>\n",
              "      <td>0.130053</td>\n",
              "      <td>0.004804</td>\n",
              "      <td>0.298309</td>\n",
              "      <td>0.180445</td>\n",
              "      <td>0.305952</td>\n",
              "      <td>0.023464</td>\n",
              "      <td>1.611475</td>\n",
              "      <td>-0.422515</td>\n",
              "      <td>0.586865</td>\n",
              "      <td>0.163305</td>\n",
              "      <td>0.135491</td>\n",
              "    </tr>\n",
              "    <tr>\n",
              "      <th>lat</th>\n",
              "      <td>0.004512</td>\n",
              "      <td>-1.526910</td>\n",
              "      <td>-0.016044</td>\n",
              "      <td>0.041080</td>\n",
              "      <td>0.893030</td>\n",
              "      <td>0.114411</td>\n",
              "      <td>-0.029410</td>\n",
              "      <td>0.052491</td>\n",
              "      <td>0.239647</td>\n",
              "      <td>0.174572</td>\n",
              "      <td>0.185414</td>\n",
              "      <td>-0.205164</td>\n",
              "      <td>-0.294893</td>\n",
              "      <td>0.007126</td>\n",
              "      <td>0.096395</td>\n",
              "      <td>-0.422515</td>\n",
              "      <td>1.780759</td>\n",
              "      <td>-0.101072</td>\n",
              "      <td>0.116319</td>\n",
              "      <td>-0.158128</td>\n",
              "    </tr>\n",
              "    <tr>\n",
              "      <th>long</th>\n",
              "      <td>-0.075194</td>\n",
              "      <td>-0.017303</td>\n",
              "      <td>0.063336</td>\n",
              "      <td>0.008951</td>\n",
              "      <td>0.056146</td>\n",
              "      <td>-0.250733</td>\n",
              "      <td>0.084443</td>\n",
              "      <td>0.044111</td>\n",
              "      <td>0.096565</td>\n",
              "      <td>-0.005172</td>\n",
              "      <td>0.419221</td>\n",
              "      <td>-0.377001</td>\n",
              "      <td>0.127452</td>\n",
              "      <td>-0.543971</td>\n",
              "      <td>-0.047548</td>\n",
              "      <td>0.586865</td>\n",
              "      <td>-0.101072</td>\n",
              "      <td>1.808047</td>\n",
              "      <td>-0.299132</td>\n",
              "      <td>-0.139771</td>\n",
              "    </tr>\n",
              "    <tr>\n",
              "      <th>sqft_living15</th>\n",
              "      <td>-0.032315</td>\n",
              "      <td>-0.616707</td>\n",
              "      <td>0.067781</td>\n",
              "      <td>0.141471</td>\n",
              "      <td>-1.674663</td>\n",
              "      <td>0.194604</td>\n",
              "      <td>0.129530</td>\n",
              "      <td>0.079414</td>\n",
              "      <td>-0.276592</td>\n",
              "      <td>0.147871</td>\n",
              "      <td>-0.585346</td>\n",
              "      <td>0.062416</td>\n",
              "      <td>0.324772</td>\n",
              "      <td>-0.054076</td>\n",
              "      <td>0.145394</td>\n",
              "      <td>0.163305</td>\n",
              "      <td>0.116319</td>\n",
              "      <td>-0.299132</td>\n",
              "      <td>3.214811</td>\n",
              "      <td>-0.565871</td>\n",
              "    </tr>\n",
              "    <tr>\n",
              "      <th>sqft_lot15</th>\n",
              "      <td>0.089333</td>\n",
              "      <td>0.367269</td>\n",
              "      <td>0.014097</td>\n",
              "      <td>0.121746</td>\n",
              "      <td>0.125325</td>\n",
              "      <td>-6.162730</td>\n",
              "      <td>0.270404</td>\n",
              "      <td>-0.136167</td>\n",
              "      <td>-0.041999</td>\n",
              "      <td>-0.197734</td>\n",
              "      <td>-0.246278</td>\n",
              "      <td>0.066251</td>\n",
              "      <td>0.030012</td>\n",
              "      <td>-0.241163</td>\n",
              "      <td>-0.122858</td>\n",
              "      <td>0.135491</td>\n",
              "      <td>-0.158128</td>\n",
              "      <td>-0.139771</td>\n",
              "      <td>-0.565871</td>\n",
              "      <td>7.037207</td>\n",
              "    </tr>\n",
              "  </tbody>\n",
              "</table>\n",
              "</div>"
            ],
            "text/plain": [
              "                     id     price  ...  sqft_living15  sqft_lot15\n",
              "id             1.031246  0.033467  ...      -0.032315    0.089333\n",
              "price          0.033467  4.008550  ...      -0.616707    0.367269\n",
              "bedrooms      -0.018513  0.134796  ...       0.067781    0.014097\n",
              "bathrooms      0.030932 -0.147141  ...       0.141471    0.121746\n",
              "sqft_living   -0.135041 -2.778568  ...      -1.674663    0.125325\n",
              "sqft_lot       0.137225  0.045969  ...       0.194604   -6.162730\n",
              "floors         0.064238 -0.172386  ...       0.129530    0.270404\n",
              "waterfront    -0.006319 -0.119946  ...       0.079414   -0.136167\n",
              "view          -0.038242 -0.328319  ...      -0.276592   -0.041999\n",
              "condition      0.011735 -0.314932  ...       0.147871   -0.197734\n",
              "grade         -0.055875 -1.389557  ...      -0.585346   -0.246278\n",
              "sqft_above     0.101934  1.365277  ...       0.062416    0.066251\n",
              "sqft_basement  0.057511  0.774469  ...       0.324772    0.030012\n",
              "yr_built       0.007003  0.792133  ...      -0.054076   -0.241163\n",
              "yr_renovated   0.010941 -0.139833  ...       0.145394   -0.122858\n",
              "zipcode        0.025588  0.238211  ...       0.163305    0.135491\n",
              "lat            0.004512 -1.526910  ...       0.116319   -0.158128\n",
              "long          -0.075194 -0.017303  ...      -0.299132   -0.139771\n",
              "sqft_living15 -0.032315 -0.616707  ...       3.214811   -0.565871\n",
              "sqft_lot15     0.089333  0.367269  ...      -0.565871    7.037207\n",
              "\n",
              "[20 rows x 20 columns]"
            ]
          },
          "metadata": {
            "tags": []
          },
          "execution_count": 46
        }
      ]
    },
    {
      "cell_type": "markdown",
      "metadata": {
        "id": "vZlf9039tX6p"
      },
      "source": [
        "Interpreting the table is straightforward: The VIF score for each variable is found alongside the downwards sloping diagonal. \n",
        "\n",
        "some features have a very high vif (vif greater than 5 is considered highly correlated)\n",
        "sqftliving has 68.56\n",
        "sqftlot has 7.11\n",
        "sqftabove has 57.95\n",
        "sqftbasement has 17.31\n",
        "sqftlot15 has 7.03\n",
        "\n"
      ]
    },
    {
      "cell_type": "code",
      "metadata": {
        "colab": {
          "base_uri": "https://localhost:8080/",
          "height": 511
        },
        "id": "yAYMB-T1w3vh",
        "outputId": "e9312b0e-b604-4de9-e29d-22cd7cca9e6a"
      },
      "source": [
        "housemcrevise = housem.drop(columns=['sqft_living','sqft_lot','sqft_above','sqft_basement', 'sqft_lot15'])\n",
        "\n",
        "correlation = housemcrevise.corr()\n",
        "pd.DataFrame(np.linalg.inv(correlation.values), index = correlation.index, columns=correlation.columns)"
      ],
      "execution_count": 47,
      "outputs": [
        {
          "output_type": "execute_result",
          "data": {
            "text/html": [
              "<div>\n",
              "<style scoped>\n",
              "    .dataframe tbody tr th:only-of-type {\n",
              "        vertical-align: middle;\n",
              "    }\n",
              "\n",
              "    .dataframe tbody tr th {\n",
              "        vertical-align: top;\n",
              "    }\n",
              "\n",
              "    .dataframe thead th {\n",
              "        text-align: right;\n",
              "    }\n",
              "</style>\n",
              "<table border=\"1\" class=\"dataframe\">\n",
              "  <thead>\n",
              "    <tr style=\"text-align: right;\">\n",
              "      <th></th>\n",
              "      <th>id</th>\n",
              "      <th>price</th>\n",
              "      <th>bedrooms</th>\n",
              "      <th>bathrooms</th>\n",
              "      <th>floors</th>\n",
              "      <th>waterfront</th>\n",
              "      <th>view</th>\n",
              "      <th>condition</th>\n",
              "      <th>grade</th>\n",
              "      <th>yr_built</th>\n",
              "      <th>yr_renovated</th>\n",
              "      <th>zipcode</th>\n",
              "      <th>lat</th>\n",
              "      <th>long</th>\n",
              "      <th>sqft_living15</th>\n",
              "    </tr>\n",
              "  </thead>\n",
              "  <tbody>\n",
              "    <tr>\n",
              "      <th>id</th>\n",
              "      <td>1.001927</td>\n",
              "      <td>-0.009725</td>\n",
              "      <td>-0.011379</td>\n",
              "      <td>0.020711</td>\n",
              "      <td>-0.013628</td>\n",
              "      <td>0.010184</td>\n",
              "      <td>-0.026523</td>\n",
              "      <td>0.020746</td>\n",
              "      <td>-0.010260</td>\n",
              "      <td>-0.005269</td>\n",
              "      <td>0.016345</td>\n",
              "      <td>0.001916</td>\n",
              "      <td>0.002616</td>\n",
              "      <td>-0.018340</td>\n",
              "      <td>0.030832</td>\n",
              "    </tr>\n",
              "    <tr>\n",
              "      <th>price</th>\n",
              "      <td>-0.009725</td>\n",
              "      <td>3.597018</td>\n",
              "      <td>-0.171758</td>\n",
              "      <td>-0.368683</td>\n",
              "      <td>-0.296084</td>\n",
              "      <td>-0.086078</td>\n",
              "      <td>-0.295419</td>\n",
              "      <td>-0.301928</td>\n",
              "      <td>-1.519103</td>\n",
              "      <td>0.758102</td>\n",
              "      <td>-0.143623</td>\n",
              "      <td>0.136723</td>\n",
              "      <td>-1.381586</td>\n",
              "      <td>0.025503</td>\n",
              "      <td>-0.871630</td>\n",
              "    </tr>\n",
              "    <tr>\n",
              "      <th>bedrooms</th>\n",
              "      <td>-0.011379</td>\n",
              "      <td>-0.171758</td>\n",
              "      <td>1.417586</td>\n",
              "      <td>-0.578842</td>\n",
              "      <td>0.111246</td>\n",
              "      <td>0.050445</td>\n",
              "      <td>0.093975</td>\n",
              "      <td>-0.069528</td>\n",
              "      <td>0.022420</td>\n",
              "      <td>0.071378</td>\n",
              "      <td>0.012462</td>\n",
              "      <td>0.053936</td>\n",
              "      <td>0.116511</td>\n",
              "      <td>0.019051</td>\n",
              "      <td>-0.289555</td>\n",
              "    </tr>\n",
              "    <tr>\n",
              "      <th>bathrooms</th>\n",
              "      <td>0.020711</td>\n",
              "      <td>-0.368683</td>\n",
              "      <td>-0.578842</td>\n",
              "      <td>2.116143</td>\n",
              "      <td>-0.390163</td>\n",
              "      <td>0.005884</td>\n",
              "      <td>-0.089249</td>\n",
              "      <td>-0.045097</td>\n",
              "      <td>-0.405966</td>\n",
              "      <td>-0.438893</td>\n",
              "      <td>-0.171051</td>\n",
              "      <td>-0.039582</td>\n",
              "      <td>0.118420</td>\n",
              "      <td>0.035517</td>\n",
              "      <td>-0.062114</td>\n",
              "    </tr>\n",
              "    <tr>\n",
              "      <th>floors</th>\n",
              "      <td>-0.013628</td>\n",
              "      <td>-0.296084</td>\n",
              "      <td>0.111246</td>\n",
              "      <td>-0.390163</td>\n",
              "      <td>1.845327</td>\n",
              "      <td>-0.022276</td>\n",
              "      <td>0.106503</td>\n",
              "      <td>0.161235</td>\n",
              "      <td>-0.242496</td>\n",
              "      <td>-0.868492</td>\n",
              "      <td>-0.083280</td>\n",
              "      <td>-0.170061</td>\n",
              "      <td>0.055419</td>\n",
              "      <td>0.071598</td>\n",
              "      <td>0.149970</td>\n",
              "    </tr>\n",
              "    <tr>\n",
              "      <th>waterfront</th>\n",
              "      <td>0.010184</td>\n",
              "      <td>-0.086078</td>\n",
              "      <td>0.050445</td>\n",
              "      <td>0.005884</td>\n",
              "      <td>-0.022276</td>\n",
              "      <td>1.200547</td>\n",
              "      <td>-0.480168</td>\n",
              "      <td>-0.000794</td>\n",
              "      <td>0.046122</td>\n",
              "      <td>-0.020453</td>\n",
              "      <td>-0.042640</td>\n",
              "      <td>0.006716</td>\n",
              "      <td>0.053190</td>\n",
              "      <td>0.005472</td>\n",
              "      <td>0.037318</td>\n",
              "    </tr>\n",
              "    <tr>\n",
              "      <th>view</th>\n",
              "      <td>-0.026523</td>\n",
              "      <td>-0.295419</td>\n",
              "      <td>0.093975</td>\n",
              "      <td>-0.089249</td>\n",
              "      <td>0.106503</td>\n",
              "      <td>-0.480168</td>\n",
              "      <td>1.406903</td>\n",
              "      <td>-0.017834</td>\n",
              "      <td>-0.075836</td>\n",
              "      <td>0.090838</td>\n",
              "      <td>-0.028894</td>\n",
              "      <td>-0.133260</td>\n",
              "      <td>0.211784</td>\n",
              "      <td>0.122278</td>\n",
              "      <td>-0.260795</td>\n",
              "    </tr>\n",
              "    <tr>\n",
              "      <th>condition</th>\n",
              "      <td>0.020746</td>\n",
              "      <td>-0.301928</td>\n",
              "      <td>-0.069528</td>\n",
              "      <td>-0.045097</td>\n",
              "      <td>0.161235</td>\n",
              "      <td>-0.000794</td>\n",
              "      <td>-0.017834</td>\n",
              "      <td>1.259206</td>\n",
              "      <td>0.072492</td>\n",
              "      <td>0.443547</td>\n",
              "      <td>0.213915</td>\n",
              "      <td>0.138671</td>\n",
              "      <td>0.159044</td>\n",
              "      <td>0.004870</td>\n",
              "      <td>0.137034</td>\n",
              "    </tr>\n",
              "    <tr>\n",
              "      <th>grade</th>\n",
              "      <td>-0.010260</td>\n",
              "      <td>-1.519103</td>\n",
              "      <td>0.022420</td>\n",
              "      <td>-0.405966</td>\n",
              "      <td>-0.242496</td>\n",
              "      <td>0.046122</td>\n",
              "      <td>-0.075836</td>\n",
              "      <td>0.072492</td>\n",
              "      <td>3.378832</td>\n",
              "      <td>-0.801713</td>\n",
              "      <td>-0.039178</td>\n",
              "      <td>0.002407</td>\n",
              "      <td>0.308567</td>\n",
              "      <td>0.246011</td>\n",
              "      <td>-0.993017</td>\n",
              "    </tr>\n",
              "    <tr>\n",
              "      <th>yr_built</th>\n",
              "      <td>-0.005269</td>\n",
              "      <td>0.758102</td>\n",
              "      <td>0.071378</td>\n",
              "      <td>-0.438893</td>\n",
              "      <td>-0.868492</td>\n",
              "      <td>-0.020453</td>\n",
              "      <td>0.090838</td>\n",
              "      <td>0.443547</td>\n",
              "      <td>-0.801713</td>\n",
              "      <td>2.552835</td>\n",
              "      <td>0.456543</td>\n",
              "      <td>0.294997</td>\n",
              "      <td>-0.009984</td>\n",
              "      <td>-0.487263</td>\n",
              "      <td>-0.027719</td>\n",
              "    </tr>\n",
              "    <tr>\n",
              "      <th>yr_renovated</th>\n",
              "      <td>0.016345</td>\n",
              "      <td>-0.143623</td>\n",
              "      <td>0.012462</td>\n",
              "      <td>-0.171051</td>\n",
              "      <td>-0.083280</td>\n",
              "      <td>-0.042640</td>\n",
              "      <td>-0.028894</td>\n",
              "      <td>0.213915</td>\n",
              "      <td>-0.039178</td>\n",
              "      <td>0.456543</td>\n",
              "      <td>1.137096</td>\n",
              "      <td>0.026213</td>\n",
              "      <td>0.095568</td>\n",
              "      <td>-0.049843</td>\n",
              "      <td>0.120174</td>\n",
              "    </tr>\n",
              "    <tr>\n",
              "      <th>zipcode</th>\n",
              "      <td>0.001916</td>\n",
              "      <td>0.136723</td>\n",
              "      <td>0.053936</td>\n",
              "      <td>-0.039582</td>\n",
              "      <td>-0.170061</td>\n",
              "      <td>0.006716</td>\n",
              "      <td>-0.133260</td>\n",
              "      <td>0.138671</td>\n",
              "      <td>0.002407</td>\n",
              "      <td>0.294997</td>\n",
              "      <td>0.026213</td>\n",
              "      <td>1.579493</td>\n",
              "      <td>-0.394517</td>\n",
              "      <td>0.623003</td>\n",
              "      <td>0.147781</td>\n",
              "    </tr>\n",
              "    <tr>\n",
              "      <th>lat</th>\n",
              "      <td>0.002616</td>\n",
              "      <td>-1.381586</td>\n",
              "      <td>0.116511</td>\n",
              "      <td>0.118420</td>\n",
              "      <td>0.055419</td>\n",
              "      <td>0.053190</td>\n",
              "      <td>0.211784</td>\n",
              "      <td>0.159044</td>\n",
              "      <td>0.308567</td>\n",
              "      <td>-0.009984</td>\n",
              "      <td>0.095568</td>\n",
              "      <td>-0.394517</td>\n",
              "      <td>1.701394</td>\n",
              "      <td>-0.050343</td>\n",
              "      <td>0.288188</td>\n",
              "    </tr>\n",
              "    <tr>\n",
              "      <th>long</th>\n",
              "      <td>-0.018340</td>\n",
              "      <td>0.025503</td>\n",
              "      <td>0.019051</td>\n",
              "      <td>0.035517</td>\n",
              "      <td>0.071598</td>\n",
              "      <td>0.005472</td>\n",
              "      <td>0.122278</td>\n",
              "      <td>0.004870</td>\n",
              "      <td>0.246011</td>\n",
              "      <td>-0.487263</td>\n",
              "      <td>-0.049843</td>\n",
              "      <td>0.623003</td>\n",
              "      <td>-0.050343</td>\n",
              "      <td>1.635642</td>\n",
              "      <td>-0.507689</td>\n",
              "    </tr>\n",
              "    <tr>\n",
              "      <th>sqft_living15</th>\n",
              "      <td>0.030832</td>\n",
              "      <td>-0.871630</td>\n",
              "      <td>-0.289555</td>\n",
              "      <td>-0.062114</td>\n",
              "      <td>0.149970</td>\n",
              "      <td>0.037318</td>\n",
              "      <td>-0.260795</td>\n",
              "      <td>0.137034</td>\n",
              "      <td>-0.993017</td>\n",
              "      <td>-0.027719</td>\n",
              "      <td>0.120174</td>\n",
              "      <td>0.147781</td>\n",
              "      <td>0.288188</td>\n",
              "      <td>-0.507689</td>\n",
              "      <td>2.626530</td>\n",
              "    </tr>\n",
              "  </tbody>\n",
              "</table>\n",
              "</div>"
            ],
            "text/plain": [
              "                     id     price  bedrooms  ...       lat      long  sqft_living15\n",
              "id             1.001927 -0.009725 -0.011379  ...  0.002616 -0.018340       0.030832\n",
              "price         -0.009725  3.597018 -0.171758  ... -1.381586  0.025503      -0.871630\n",
              "bedrooms      -0.011379 -0.171758  1.417586  ...  0.116511  0.019051      -0.289555\n",
              "bathrooms      0.020711 -0.368683 -0.578842  ...  0.118420  0.035517      -0.062114\n",
              "floors        -0.013628 -0.296084  0.111246  ...  0.055419  0.071598       0.149970\n",
              "waterfront     0.010184 -0.086078  0.050445  ...  0.053190  0.005472       0.037318\n",
              "view          -0.026523 -0.295419  0.093975  ...  0.211784  0.122278      -0.260795\n",
              "condition      0.020746 -0.301928 -0.069528  ...  0.159044  0.004870       0.137034\n",
              "grade         -0.010260 -1.519103  0.022420  ...  0.308567  0.246011      -0.993017\n",
              "yr_built      -0.005269  0.758102  0.071378  ... -0.009984 -0.487263      -0.027719\n",
              "yr_renovated   0.016345 -0.143623  0.012462  ...  0.095568 -0.049843       0.120174\n",
              "zipcode        0.001916  0.136723  0.053936  ... -0.394517  0.623003       0.147781\n",
              "lat            0.002616 -1.381586  0.116511  ...  1.701394 -0.050343       0.288188\n",
              "long          -0.018340  0.025503  0.019051  ... -0.050343  1.635642      -0.507689\n",
              "sqft_living15  0.030832 -0.871630 -0.289555  ...  0.288188 -0.507689       2.626530\n",
              "\n",
              "[15 rows x 15 columns]"
            ]
          },
          "metadata": {
            "tags": []
          },
          "execution_count": 47
        }
      ]
    },
    {
      "cell_type": "markdown",
      "metadata": {
        "id": "dtHoV8z74Bx9"
      },
      "source": [
        "# 6 Multiple regression"
      ]
    },
    {
      "cell_type": "code",
      "metadata": {
        "colab": {
          "base_uri": "https://localhost:8080/"
        },
        "id": "pIIfYIrq4H2q",
        "outputId": "31418676-1481-4217-9ad5-753ebb20e587"
      },
      "source": [
        "housesm=home.drop(columns=['id','sqft_living','sqft_lot','sqft_above','sqft_basement', 'sqft_lot15', 'lat','long'])\n",
        "housesm.columns\n"
      ],
      "execution_count": 49,
      "outputs": [
        {
          "output_type": "execute_result",
          "data": {
            "text/plain": [
              "Index(['price', 'bedrooms', 'bathrooms', 'floors', 'waterfront', 'view',\n",
              "       'condition', 'grade', 'yr_built', 'yr_renovated', 'zipcode',\n",
              "       'sqft_living15'],\n",
              "      dtype='object')"
            ]
          },
          "metadata": {
            "tags": []
          },
          "execution_count": 49
        }
      ]
    },
    {
      "cell_type": "markdown",
      "metadata": {
        "id": "34ih27hf4UIU"
      },
      "source": [
        "We shall use the above  columns for our regression analysis"
      ]
    },
    {
      "cell_type": "code",
      "metadata": {
        "id": "giJbZ5GB4eA_"
      },
      "source": [
        "# price is our independent variable \n",
        "x = housesm.drop('price', axis = 1)\n",
        "y = housesm['price']\n",
        "\n"
      ],
      "execution_count": 50,
      "outputs": []
    },
    {
      "cell_type": "code",
      "metadata": {
        "colab": {
          "base_uri": "https://localhost:8080/"
        },
        "id": "XiNJd8I2dRcZ",
        "outputId": "2375a2b9-69df-4dc6-aae5-e8aa7da219b9"
      },
      "source": [
        "# Initialise the Scaler \n",
        "scaler = StandardScaler() \n",
        "  \n",
        "# To scale data \n",
        "scaler.fit(housem) "
      ],
      "execution_count": 52,
      "outputs": [
        {
          "output_type": "execute_result",
          "data": {
            "text/plain": [
              "StandardScaler(copy=True, with_mean=True, with_std=True)"
            ]
          },
          "metadata": {
            "tags": []
          },
          "execution_count": 52
        }
      ]
    },
    {
      "cell_type": "code",
      "metadata": {
        "id": "k9Nar2YI-eF8"
      },
      "source": [
        "# Train using 80% of the data.\n",
        "\n",
        "xtrain, xtest, ytrain, ytest = train_test_split(x, y, test_size=0.2, random_state=0)\n"
      ],
      "execution_count": 53,
      "outputs": []
    },
    {
      "cell_type": "code",
      "metadata": {
        "colab": {
          "base_uri": "https://localhost:8080/"
        },
        "id": "uFm7HpS2BG1o",
        "outputId": "f09c5dd5-d1d4-4c4b-f173-2f212dfc8990"
      },
      "source": [
        "# find optimal coefficients and intercept\n",
        "regressor = LinearRegression()  \n",
        "regressor.fit(xtrain, ytrain)"
      ],
      "execution_count": 54,
      "outputs": [
        {
          "output_type": "execute_result",
          "data": {
            "text/plain": [
              "LinearRegression(copy_X=True, fit_intercept=True, n_jobs=None, normalize=False)"
            ]
          },
          "metadata": {
            "tags": []
          },
          "execution_count": 54
        }
      ]
    },
    {
      "cell_type": "code",
      "metadata": {
        "colab": {
          "base_uri": "https://localhost:8080/"
        },
        "id": "pyoYJ0WukxKf",
        "outputId": "24cb1db3-1351-443b-bcf9-6137111a1f79"
      },
      "source": [
        "# checking coefficients used by our model, as they indicate how heavily each independent variable contributes to the dependent variable\n",
        "coef_dict_baseline = {}\n",
        "for coef, feat in zip(regressor.coef_,x.columns):\n",
        "    coef_dict_baseline[feat] = coef\n",
        "coef_dict_baseline"
      ],
      "execution_count": 57,
      "outputs": [
        {
          "output_type": "execute_result",
          "data": {
            "text/plain": [
              "{'bathrooms': 105936.96479314416,\n",
              " 'bedrooms': -3050.3492723563236,\n",
              " 'condition': 25211.448779297833,\n",
              " 'floors': 16984.190697305425,\n",
              " 'grade': 160009.1421829856,\n",
              " 'sqft_living15': 92.21222091243544,\n",
              " 'view': 50186.0538809661,\n",
              " 'waterfront': 683077.1167748966,\n",
              " 'yr_built': -3804.410867753865,\n",
              " 'yr_renovated': 15.492098763810645,\n",
              " 'zipcode': 36.24868329552692}"
            ]
          },
          "metadata": {
            "tags": []
          },
          "execution_count": 57
        }
      ]
    },
    {
      "cell_type": "markdown",
      "metadata": {
        "id": "csBBp---mtGY"
      },
      "source": [
        "waterfrnt  is the highest important predictor ,followed by floors\n",
        "the least predictor is the yr built"
      ]
    },
    {
      "cell_type": "code",
      "metadata": {
        "colab": {
          "base_uri": "https://localhost:8080/"
        },
        "id": "lMdzb2Njn4dq",
        "outputId": "79553241-a63d-455e-c1fa-ac59a2cc8496"
      },
      "source": [
        "# predicting and evaluation of the model\n",
        "y_pred = regressor.predict(xtest)\n",
        "\n",
        "print('Mean Absolute Error:', metrics.mean_absolute_error(ytest, y_pred))  \n",
        "print('Mean Squared Error:', metrics.mean_squared_error(ytest, y_pred))  \n",
        "print('Root Mean Squared Error:', np.sqrt(metrics.mean_squared_error(ytest, y_pred)))"
      ],
      "execution_count": 55,
      "outputs": [
        {
          "output_type": "stream",
          "text": [
            "Mean Absolute Error: 143639.86974615254\n",
            "Mean Squared Error: 48369833292.21715\n",
            "Root Mean Squared Error: 219931.4286140504\n"
          ],
          "name": "stdout"
        }
      ]
    },
    {
      "cell_type": "markdown",
      "metadata": {
        "id": "ZXoJW8SMLXeO"
      },
      "source": [
        ""
      ]
    },
    {
      "cell_type": "code",
      "metadata": {
        "id": "gt4KCzJevOpP"
      },
      "source": [
        "# We now create the residual by subtracting the test value from the predicted \n",
        "# value for each row in our dataset\n",
        "\n",
        "residuals = np.subtract(y_pred, ytest)\n",
        "\n"
      ],
      "execution_count": 58,
      "outputs": []
    },
    {
      "cell_type": "code",
      "metadata": {
        "colab": {
          "base_uri": "https://localhost:8080/",
          "height": 290
        },
        "id": "2DCtext3wAIf",
        "outputId": "f6333d68-d5d2-4d92-d000-7cfe324edc0e"
      },
      "source": [
        "# Visualizing the residuals using a scatter plot \n",
        "\n",
        "plt.scatter(y_pred, residuals, color='black')\n",
        "plt.ylabel('residual')\n",
        "plt.xlabel('fitted values')\n",
        "plt.axhline(y= residuals.mean(), color='red', linewidth=1)\n",
        "plt.show()"
      ],
      "execution_count": 59,
      "outputs": [
        {
          "output_type": "display_data",
          "data": {
            "image/png": "[encoded data removed]",
            "text/plain": [
              "<Figure size 432x288 with 1 Axes>"
            ]
          },
          "metadata": {
            "tags": [],
            "needs_background": "light"
          }
        }
      ]
    },
    {
      "cell_type": "code",
      "metadata": {
        "colab": {
          "base_uri": "https://localhost:8080/"
        },
        "id": "gNGbdk00w1fg",
        "outputId": "8e20ad5d-3266-4f7d-f9e7-6d1c9cc98fa5"
      },
      "source": [
        "# Carrying out Barlett's test \n",
        "# It is a more thorough heteroskedasticity test.\n",
        "\n",
        "test_result, p_value = sp.stats.bartlett(y_pred, residuals)\n",
        "\n",
        "# To interpret the results we must also compute a critical value of the chi squared distribution\n",
        "degree_of_freedom = len(y_pred)-1\n",
        "probability = 1 - p_value\n",
        "\n",
        "\n",
        "critical_value = sp.stats.chi2.ppf(probability, degree_of_freedom)\n",
        "print(p_value)\n",
        "\n",
        "# If the test_result is greater than the critical value, then we reject our null\n",
        "# hypothesis. This would mean that there are patterns to the variance of the data\n",
        "\n",
        "# Otherwise, we can identify no patterns, and we accept the null hypothesis that \n",
        "# the variance is homogeneous across our data\n",
        "\n",
        "if (test_result > critical_value):\n",
        "  print('the variances are unequal, and the model should be reassessed')\n",
        "else:\n",
        "  print('The variances are Homogeneous!')"
      ],
      "execution_count": 60,
      "outputs": [
        {
          "output_type": "stream",
          "text": [
            "2.038088754762586e-88\n",
            "The variances are Homogeneous!\n"
          ],
          "name": "stdout"
        }
      ]
    },
    {
      "cell_type": "markdown",
      "metadata": {
        "id": "LjVlFzd_xXhY"
      },
      "source": [
        "# 7 Ridge regression"
      ]
    },
    {
      "cell_type": "code",
      "metadata": {
        "colab": {
          "base_uri": "https://localhost:8080/"
        },
        "id": "KR5k_0yIyNuM",
        "outputId": "166f6002-76ca-4f3f-ced1-49d749856c20"
      },
      "source": [
        "## training the model\n",
        "\n",
        "ridgeReg = Ridge(alpha=0.05, normalize=True)\n",
        "ridgeReg.fit(xtrain,ytrain)\n"
      ],
      "execution_count": 61,
      "outputs": [
        {
          "output_type": "execute_result",
          "data": {
            "text/plain": [
              "Ridge(alpha=0.05, copy_X=True, fit_intercept=True, max_iter=None,\n",
              "      normalize=True, random_state=None, solver='auto', tol=0.001)"
            ]
          },
          "metadata": {
            "tags": []
          },
          "execution_count": 61
        }
      ]
    },
    {
      "cell_type": "code",
      "metadata": {
        "colab": {
          "base_uri": "https://localhost:8080/"
        },
        "id": "q50xS3vqyS-l",
        "outputId": "f46fa7ea-5b64-4b0e-ab5f-8f470141cc08"
      },
      "source": [
        "# checking coefficients used by our model, as they indicate how heavily each independent variable contributes to the dependent variable\n",
        "coef_dict_baseline = {}\n",
        "for coef, feat in zip(ridgeReg.coef_,x.columns):\n",
        "    coef_dict_baseline[feat] = coef\n",
        "coef_dict_baseline"
      ],
      "execution_count": 62,
      "outputs": [
        {
          "output_type": "execute_result",
          "data": {
            "text/plain": [
              "{'bathrooms': 101284.58862523928,\n",
              " 'bedrooms': 744.5548107147495,\n",
              " 'condition': 27971.562771149733,\n",
              " 'floors': 16599.460783389462,\n",
              " 'grade': 145023.17030498633,\n",
              " 'sqft_living15': 99.80503007740273,\n",
              " 'view': 53325.628089547434,\n",
              " 'waterfront': 652843.743384748,\n",
              " 'yr_built': -3310.7781265804824,\n",
              " 'yr_renovated': 23.38591551748775,\n",
              " 'zipcode': 84.89084150531556}"
            ]
          },
          "metadata": {
            "tags": []
          },
          "execution_count": 62
        }
      ]
    },
    {
      "cell_type": "markdown",
      "metadata": {
        "id": "i5gF6Qxkzj27"
      },
      "source": [
        "waterfront is the predictor with the highest influence on the dependent variable,followed by floors and the least is yr built...\n",
        "this results are the same as those observed by using multiple regression"
      ]
    },
    {
      "cell_type": "code",
      "metadata": {
        "colab": {
          "base_uri": "https://localhost:8080/"
        },
        "id": "wcf0Ypmg0-IL",
        "outputId": "dc13ae35-6a0e-4f99-eebf-f57d80bd3e83"
      },
      "source": [
        "# predicting and evaluation of the model\n",
        "ypred = ridgeReg.predict(xtest)\n",
        "\n",
        "print('Mean Absolute Error:', metrics.mean_absolute_error(ytest, ypred))  \n",
        "print('Mean Squared Error:', metrics.mean_squared_error(ytest, ypred))  \n",
        "print('Root Mean Squared Error:', np.sqrt(metrics.mean_squared_error(ytest, ypred)))"
      ],
      "execution_count": 63,
      "outputs": [
        {
          "output_type": "stream",
          "text": [
            "Mean Absolute Error: 142221.24583989556\n",
            "Mean Squared Error: 48505422895.29927\n",
            "Root Mean Squared Error: 220239.4671608594\n"
          ],
          "name": "stdout"
        }
      ]
    },
    {
      "cell_type": "markdown",
      "metadata": {
        "id": "Nch_kAZ81G4n"
      },
      "source": [
        "the  metrics have increasedd eg rmse in multiple regression model was 219931.4286140504 in this model it is 220239.4671608594 This means ridge regression is performing worse than multiple regression"
      ]
    },
    {
      "cell_type": "markdown",
      "metadata": {
        "id": "g0ZQK-l0PjgH"
      },
      "source": [
        ""
      ]
    },
    {
      "cell_type": "code",
      "metadata": {
        "id": "OU5l7uTL29hQ"
      },
      "source": [
        "# We now create the residual by subtracting the test value from the predicted \n",
        "# value for each row in our dataset\n",
        "\n",
        "residuals = np.subtract(ypred, ytest)\n",
        "\n"
      ],
      "execution_count": 64,
      "outputs": []
    },
    {
      "cell_type": "code",
      "metadata": {
        "colab": {
          "base_uri": "https://localhost:8080/"
        },
        "id": "OARMR9sY35M5",
        "outputId": "38b335cb-a9e9-4439-d3e5-e3ae082a1ed5"
      },
      "source": [
        "# Let's describe our residual:\n",
        "pd.DataFrame(residuals).describe()\n",
        "\n",
        "residuals.mean()"
      ],
      "execution_count": 65,
      "outputs": [
        {
          "output_type": "execute_result",
          "data": {
            "text/plain": [
              "-2561.8898899505807"
            ]
          },
          "metadata": {
            "tags": []
          },
          "execution_count": 65
        }
      ]
    },
    {
      "cell_type": "code",
      "metadata": {
        "colab": {
          "base_uri": "https://localhost:8080/",
          "height": 290
        },
        "id": "QYa8DgyZ3Vmw",
        "outputId": "2c9b9def-bdbe-45d3-b963-9ade97eb3ab7"
      },
      "source": [
        "# Visualizing the residuals using a scatter plot \n",
        "\n",
        "plt.scatter(ypred, residuals, color='black')\n",
        "plt.ylabel('residual')\n",
        "plt.xlabel('fitted values')\n",
        "plt.axhline(y= residuals.mean(), color='red', linewidth=1)\n",
        "plt.show()"
      ],
      "execution_count": 66,
      "outputs": [
        {
          "output_type": "display_data",
          "data": {
            "image/png": "[encoded data removed]",
            "text/plain": [
              "<Figure size 432x288 with 1 Axes>"
            ]
          },
          "metadata": {
            "tags": [],
            "needs_background": "light"
          }
        }
      ]
    },
    {
      "cell_type": "code",
      "metadata": {
        "colab": {
          "base_uri": "https://localhost:8080/"
        },
        "id": "kJU3vdog4cca",
        "outputId": "b07083df-670a-4ad7-dbc2-79aa25204d58"
      },
      "source": [
        "# Carrying out Barlett's test \n",
        "# It is a more thorough heteroskedasticity test.\n",
        "\n",
        "test_result, p_value = sp.stats.bartlett(ypred, residuals)\n",
        "\n",
        "# To interpret the results we must also compute a critical value of the chi squared distribution\n",
        "degree_of_freedom = len(ypred)-1\n",
        "probability = 1 - p_value\n",
        "\n",
        "\n",
        "critical_value = sp.stats.chi2.ppf(probability, degree_of_freedom)\n",
        "print(p_value)\n",
        "\n",
        "# If the test_result is greater than the critical value, then we reject our null\n",
        "# hypothesis. This would mean that there are patterns to the variance of the data\n",
        "\n",
        "# Otherwise, we can identify no patterns, and we accept the null hypothesis that \n",
        "# the variance is homogeneous across our data\n",
        "\n",
        "if (test_result > critical_value):\n",
        "  print('the variances are unequal, and the model should be reassessed')\n",
        "else:\n",
        "  print('The variances are Homogeneous!')"
      ],
      "execution_count": 67,
      "outputs": [
        {
          "output_type": "stream",
          "text": [
            "1.296153921894664e-68\n",
            "The variances are Homogeneous!\n"
          ],
          "name": "stdout"
        }
      ]
    },
    {
      "cell_type": "markdown",
      "metadata": {
        "id": "WvyQ2xHQ5f5U"
      },
      "source": [
        "#8 lasso  regression"
      ]
    },
    {
      "cell_type": "code",
      "metadata": {
        "colab": {
          "base_uri": "https://localhost:8080/"
        },
        "id": "V_PyJBpD5v1A",
        "outputId": "739e0199-a6d2-4edf-e5b3-bfa0bd6c383d"
      },
      "source": [
        "## training the model\n",
        "lassoReg = Lasso(alpha=0.05, normalize=True)\n",
        "\n",
        "lassoReg.fit(xtrain,ytrain)"
      ],
      "execution_count": 68,
      "outputs": [
        {
          "output_type": "execute_result",
          "data": {
            "text/plain": [
              "Lasso(alpha=0.05, copy_X=True, fit_intercept=True, max_iter=1000,\n",
              "      normalize=True, positive=False, precompute=False, random_state=None,\n",
              "      selection='cyclic', tol=0.0001, warm_start=False)"
            ]
          },
          "metadata": {
            "tags": []
          },
          "execution_count": 68
        }
      ]
    },
    {
      "cell_type": "code",
      "metadata": {
        "colab": {
          "base_uri": "https://localhost:8080/"
        },
        "id": "8HRUSFwr6GDJ",
        "outputId": "3061fa3a-59c5-4e90-de8b-6f34f6e54ca0"
      },
      "source": [
        "# checking coefficients used by our model, as they indicate how heavily each independent variable contributes to the dependent variable\n",
        "coef_dict_baseline = {}\n",
        "for coef, feat in zip(lassoReg.coef_,x.columns):\n",
        "    coef_dict_baseline[feat] = coef\n",
        "coef_dict_baseline"
      ],
      "execution_count": 69,
      "outputs": [
        {
          "output_type": "execute_result",
          "data": {
            "text/plain": [
              "{'bathrooms': 105924.9841587062,\n",
              " 'bedrooms': -3035.319384599384,\n",
              " 'condition': 25199.099518458144,\n",
              " 'floors': 16964.745482746253,\n",
              " 'grade': 160006.81214695942,\n",
              " 'sqft_living15': 92.19936789559395,\n",
              " 'view': 50187.13306083176,\n",
              " 'waterfront': 683027.5168940976,\n",
              " 'yr_built': -3803.96707390478,\n",
              " 'yr_renovated': 15.483654593737766,\n",
              " 'zipcode': 36.15422064816369}"
            ]
          },
          "metadata": {
            "tags": []
          },
          "execution_count": 69
        }
      ]
    },
    {
      "cell_type": "markdown",
      "metadata": {
        "id": "H9Ow5PF16M1v"
      },
      "source": [
        "waterfront is the predictor with the highest influence on the dependent variable,followed by grade and the least is yr built...\n"
      ]
    },
    {
      "cell_type": "code",
      "metadata": {
        "colab": {
          "base_uri": "https://localhost:8080/"
        },
        "id": "pcMqweEw6-So",
        "outputId": "b16ceba0-8f26-49c1-99c7-c35c959e1b35"
      },
      "source": [
        "# predicting and evaluation of the model\n",
        "ypred = lassoReg.predict(xtest)\n",
        "\n",
        "print('Mean Absolute Error:', metrics.mean_absolute_error(ytest, ypred))  \n",
        "print('Mean Squared Error:', metrics.mean_squared_error(ytest, ypred))  \n",
        "print('Root Mean Squared Error:', np.sqrt(metrics.mean_squared_error(ytest, ypred)))"
      ],
      "execution_count": 70,
      "outputs": [
        {
          "output_type": "stream",
          "text": [
            "Mean Absolute Error: 143637.89662592093\n",
            "Mean Squared Error: 48369434145.14786\n",
            "Root Mean Squared Error: 219930.52117691137\n"
          ],
          "name": "stdout"
        }
      ]
    },
    {
      "cell_type": "markdown",
      "metadata": {
        "id": "HmBbyhpw9bE5"
      },
      "source": [
        "the  metrics have reduced eg rmse in ridge regression model was 220239.4671608594 in this model it is 219930.52117691137 This means that lasso is better than ridge\n"
      ]
    },
    {
      "cell_type": "code",
      "metadata": {
        "id": "Iw5GEZn3-HWu"
      },
      "source": [
        "# We now create the residual by subtracting the test value from the predicted \n",
        "# value for each row in our dataset\n",
        "\n",
        "residuals = np.subtract(ypred, ytest)\n"
      ],
      "execution_count": 71,
      "outputs": []
    },
    {
      "cell_type": "code",
      "metadata": {
        "colab": {
          "base_uri": "https://localhost:8080/"
        },
        "id": "ZhYDiL7U-OLb",
        "outputId": "3fce1c11-9c5c-4f87-a451-e8fc103611d6"
      },
      "source": [
        "# Let's describe our residual:\n",
        "pd.DataFrame(residuals).describe()\n",
        "\n",
        "residuals.mean()"
      ],
      "execution_count": 72,
      "outputs": [
        {
          "output_type": "execute_result",
          "data": {
            "text/plain": [
              "-2430.2762131636787"
            ]
          },
          "metadata": {
            "tags": []
          },
          "execution_count": 72
        }
      ]
    },
    {
      "cell_type": "code",
      "metadata": {
        "colab": {
          "base_uri": "https://localhost:8080/",
          "height": 290
        },
        "id": "6eEQDG07-Uh6",
        "outputId": "66f75140-e7d7-4ab4-d7fc-f615b3b687fc"
      },
      "source": [
        "# Visualizing the residuals using a scatter plot \n",
        "\n",
        "plt.scatter(ypred, residuals, color='black')\n",
        "plt.ylabel('residual')\n",
        "plt.xlabel('fitted values')\n",
        "plt.axhline(y= residuals.mean(), color='red', linewidth=1)\n",
        "plt.show()"
      ],
      "execution_count": 73,
      "outputs": [
        {
          "output_type": "display_data",
          "data": {
            "image/png": "[encoded data removed]",
            "text/plain": [
              "<Figure size 432x288 with 1 Axes>"
            ]
          },
          "metadata": {
            "tags": [],
            "needs_background": "light"
          }
        }
      ]
    },
    {
      "cell_type": "code",
      "metadata": {
        "id": "SrLhgj_1-hCw"
      },
      "source": [
        ""
      ],
      "execution_count": null,
      "outputs": []
    },
    {
      "cell_type": "code",
      "metadata": {
        "colab": {
          "base_uri": "https://localhost:8080/"
        },
        "id": "S6BB2VDE-gqY",
        "outputId": "e121efe9-30ba-47ba-9739-69a7e68ca7cd"
      },
      "source": [
        "# Carrying out Barlett's test \n",
        "# It is a more thorough heteroskedasticity test.\n",
        "\n",
        "test_result, p_value = sp.stats.bartlett(ypred, residuals)\n",
        "\n",
        "# To interpret the results we must also compute a critical value of the chi squared distribution\n",
        "degree_of_freedom = len(ypred)-1\n",
        "probability = 1 - p_value\n",
        "\n",
        "\n",
        "critical_value = sp.stats.chi2.ppf(probability, degree_of_freedom)\n",
        "print(p_value)\n",
        "\n",
        "# If the test_result is greater than the critical value, then we reject our null\n",
        "# hypothesis. This would mean that there are patterns to the variance of the data\n",
        "\n",
        "# Otherwise, we can identify no patterns, and we accept the null hypothesis that \n",
        "# the variance is homogeneous across our data\n",
        "\n",
        "if (test_result > critical_value):\n",
        "  print('the variances are unequal, and the model should be reassessed')\n",
        "else:\n",
        "  print('The variances are Homogeneous!')"
      ],
      "execution_count": 74,
      "outputs": [
        {
          "output_type": "stream",
          "text": [
            "2.1486407465267328e-88\n",
            "The variances are Homogeneous!\n"
          ],
          "name": "stdout"
        }
      ]
    },
    {
      "cell_type": "markdown",
      "metadata": {
        "id": "MfZWFgR7-v6F"
      },
      "source": [
        "# 9.Elastic net regression"
      ]
    },
    {
      "cell_type": "code",
      "metadata": {
        "id": "YmzkP0QL_CSV",
        "colab": {
          "base_uri": "https://localhost:8080/"
        },
        "outputId": "036ae1be-47ef-46ca-d924-780b28d70970"
      },
      "source": [
        "## training the model\n",
        "Ereg = ElasticNet(alpha=0.05, l1_ratio=0.5, normalize=False)\n",
        "\n",
        "Ereg.fit(xtrain,ytrain)"
      ],
      "execution_count": 75,
      "outputs": [
        {
          "output_type": "execute_result",
          "data": {
            "text/plain": [
              "ElasticNet(alpha=0.05, copy_X=True, fit_intercept=True, l1_ratio=0.5,\n",
              "           max_iter=1000, normalize=False, positive=False, precompute=False,\n",
              "           random_state=None, selection='cyclic', tol=0.0001, warm_start=False)"
            ]
          },
          "metadata": {
            "tags": []
          },
          "execution_count": 75
        }
      ]
    },
    {
      "cell_type": "code",
      "metadata": {
        "colab": {
          "base_uri": "https://localhost:8080/"
        },
        "id": "tGnLlHTp_4tX",
        "outputId": "ad9bf1af-77b5-41f8-f51a-f7baca227865"
      },
      "source": [
        "# checking coefficients used by our model, as they indicate how heavily each independent variable contributes to the dependent variable\n",
        "coef_dict_baseline = {}\n",
        "for coef, feat in zip(Ereg.coef_,x.columns):\n",
        "    coef_dict_baseline[feat] = coef\n",
        "coef_dict_baseline"
      ],
      "execution_count": 76,
      "outputs": [
        {
          "output_type": "execute_result",
          "data": {
            "text/plain": [
              "{'bathrooms': 99858.23761222968,\n",
              " 'bedrooms': -2885.1188480021888,\n",
              " 'condition': 25057.41695861121,\n",
              " 'floors': 19934.126488059934,\n",
              " 'grade': 154028.54586798412,\n",
              " 'sqft_living15': 99.8162372196427,\n",
              " 'view': 72275.79664236923,\n",
              " 'waterfront': 136008.63862870395,\n",
              " 'yr_built': -3700.662656016656,\n",
              " 'yr_renovated': 23.571772667126673,\n",
              " 'zipcode': 42.59731504424451}"
            ]
          },
          "metadata": {
            "tags": []
          },
          "execution_count": 76
        }
      ]
    },
    {
      "cell_type": "markdown",
      "metadata": {
        "id": "efkse_b-AJs9"
      },
      "source": [
        "grade is the predictor with the highest influence on the price which is our dependent variable,followed by waterfront ....there is a slight difference oberserved in this model as compared with the previous 3 where waterfront was the predictor with the highest influence"
      ]
    },
    {
      "cell_type": "code",
      "metadata": {
        "id": "368-0zXTBIWd"
      },
      "source": [
        ""
      ],
      "execution_count": null,
      "outputs": []
    },
    {
      "cell_type": "code",
      "metadata": {
        "colab": {
          "base_uri": "https://localhost:8080/"
        },
        "id": "KUoiY55cBJTh",
        "outputId": "303e51d5-9745-4914-8c4f-09df11d4ac04"
      },
      "source": [
        "# predicting and evaluation of the model\n",
        "ypred = Ereg.predict(xtest)\n",
        "\n",
        "print('Mean Absolute Error:', metrics.mean_absolute_error(ytest, ypred))  \n",
        "print('Mean Squared Error:', metrics.mean_squared_error(ytest, ypred))  \n",
        "print('Root Mean Squared Error:', np.sqrt(metrics.mean_squared_error(ytest, ypred)))"
      ],
      "execution_count": 77,
      "outputs": [
        {
          "output_type": "stream",
          "text": [
            "Mean Absolute Error: 143109.7037743359\n",
            "Mean Squared Error: 47958574488.89076\n",
            "Root Mean Squared Error: 218994.4622333879\n"
          ],
          "name": "stdout"
        }
      ]
    },
    {
      "cell_type": "markdown",
      "metadata": {
        "id": "WwOvimpjBcAO"
      },
      "source": [
        "the metrics have reduce eg rmse in lasso was 219930.52117691137 in this case \n",
        "its 218994.4622333879\n",
        "This means elastic net is performing better than lasso"
      ]
    },
    {
      "cell_type": "code",
      "metadata": {
        "id": "m-6DA-kUQD_m"
      },
      "source": [
        ""
      ],
      "execution_count": null,
      "outputs": []
    },
    {
      "cell_type": "code",
      "metadata": {
        "id": "EKBEmnLpCVer"
      },
      "source": [
        "# We now create the residual by subtracting the test value from the predicted \n",
        "# value for each row in our dataset\n",
        "\n",
        "residuals = np.subtract(ypred, ytest)"
      ],
      "execution_count": 78,
      "outputs": []
    },
    {
      "cell_type": "code",
      "metadata": {
        "colab": {
          "base_uri": "https://localhost:8080/"
        },
        "id": "ld51DrKvCdYq",
        "outputId": "263a602f-519d-4dbd-82f3-c63ba5272abd"
      },
      "source": [
        "# Let's describe our residual:\n",
        "pd.DataFrame(residuals).describe()\n",
        "\n",
        "residuals.mean()"
      ],
      "execution_count": 79,
      "outputs": [
        {
          "output_type": "execute_result",
          "data": {
            "text/plain": [
              "-3170.394148521934"
            ]
          },
          "metadata": {
            "tags": []
          },
          "execution_count": 79
        }
      ]
    },
    {
      "cell_type": "code",
      "metadata": {
        "colab": {
          "base_uri": "https://localhost:8080/",
          "height": 290
        },
        "id": "paXLVTnxCdEA",
        "outputId": "20760336-5cd1-49d1-996e-4ca1acf3e01b"
      },
      "source": [
        "# Visualizing the residuals using a scatter plot \n",
        "\n",
        "plt.scatter(ypred, residuals, color='black')\n",
        "plt.ylabel('residual')\n",
        "plt.xlabel('fitted values')\n",
        "plt.axhline(y= residuals.mean(), color='red', linewidth=1)\n",
        "plt.show()"
      ],
      "execution_count": 80,
      "outputs": [
        {
          "output_type": "display_data",
          "data": {
            "image/png": "[encoded data removed]",
            "text/plain": [
              "<Figure size 432x288 with 1 Axes>"
            ]
          },
          "metadata": {
            "tags": [],
            "needs_background": "light"
          }
        }
      ]
    },
    {
      "cell_type": "code",
      "metadata": {
        "colab": {
          "base_uri": "https://localhost:8080/"
        },
        "id": "bhS35a90Cxby",
        "outputId": "82fd667a-518b-40b5-8e34-ab0117b3db6e"
      },
      "source": [
        "# Carrying out Barlett's test \n",
        "# It is a more thorough heteroskedasticity test.\n",
        "\n",
        "test_result, p_value = sp.stats.bartlett(ypred, residuals)\n",
        "\n",
        "# To interpret the results we must also compute a critical value of the chi squared distribution\n",
        "degree_of_freedom = len(ypred)-1\n",
        "probability = 1 - p_value\n",
        "\n",
        "\n",
        "critical_value = sp.stats.chi2.ppf(probability, degree_of_freedom)\n",
        "print(p_value)\n",
        "\n",
        "# If the test_result is greater than the critical value, then we reject our null\n",
        "# hypothesis. This would mean that there are patterns to the variance of the data\n",
        "\n",
        "# Otherwise, we can identify no patterns, and we accept the null hypothesis that \n",
        "# the variance is homogeneous across our data\n",
        "\n",
        "if (test_result > critical_value):\n",
        "  print('the variances are unequal, and the model should be reassessed')\n",
        "else:\n",
        "  print('The variances are Homogeneous!')"
      ],
      "execution_count": 81,
      "outputs": [
        {
          "output_type": "stream",
          "text": [
            "1.8202123794670766e-71\n",
            "The variances are Homogeneous!\n"
          ],
          "name": "stdout"
        }
      ]
    },
    {
      "cell_type": "markdown",
      "metadata": {
        "id": "uJTYRfzMDEWm"
      },
      "source": [
        "# 10 Quartile regression"
      ]
    },
    {
      "cell_type": "code",
      "metadata": {
        "colab": {
          "base_uri": "https://localhost:8080/"
        },
        "id": "fcM533cgGDw2",
        "outputId": "e023f68f-8cfc-4931-8831-c1bd5f930ad6"
      },
      "source": [
        "## quantile regression at 0.5 quantile\n",
        "\n",
        "mod = smf.quantreg('y ~ x',housesm )\n",
        "res = mod.fit(q=.5)\n"
      ],
      "execution_count": null,
      "outputs": [
        {
          "output_type": "stream",
          "text": [
            "/usr/local/lib/python3.6/dist-packages/statsmodels/regression/quantile_regression.py:192: IterationLimitWarning: Maximum number of iterations (1000) reached.\n",
            "  \") reached.\", IterationLimitWarning)\n"
          ],
          "name": "stderr"
        }
      ]
    },
    {
      "cell_type": "code",
      "metadata": {
        "colab": {
          "base_uri": "https://localhost:8080/"
        },
        "id": "Kch7XubuMGcC",
        "outputId": "af4b11c3-6f9d-48ae-e7fc-90a2d61df94d"
      },
      "source": [
        "# Then print out the summary of our model\n",
        "#\n",
        "print(res.summary())"
      ],
      "execution_count": 330,
      "outputs": [
        {
          "output_type": "stream",
          "text": [
            "                         QuantReg Regression Results                          \n",
            "==============================================================================\n",
            "Dep. Variable:                      y   Pseudo R-squared:               0.2450\n",
            "Model:                       QuantReg   Bandwidth:                   2.194e+04\n",
            "Method:                 Least Squares   Sparsity:                    5.511e+05\n",
            "Date:                Sat, 21 Nov 2020   No. Observations:                21610\n",
            "Time:                        17:23:37   Df Residuals:                    21598\n",
            "                                        Df Model:                           11\n",
            "==============================================================================\n",
            "                 coef    std err          t      P>|t|      [0.025      0.975]\n",
            "------------------------------------------------------------------------------\n",
            "Intercept    -12.0859      1.049    -11.517      0.000     -14.143     -10.029\n",
            "x[0]        -582.4493   1332.666     -0.437      0.662   -3194.573    2029.674\n",
            "x[1]        3.989e+04   2108.869     18.915      0.000    3.58e+04     4.4e+04\n",
            "x[2]         3.76e+04   2490.981     15.093      0.000    3.27e+04    4.25e+04\n",
            "x[3]         382.8634   9973.671      0.038      0.969   -1.92e+04    1.99e+04\n",
            "x[4]        2.679e+04   1763.425     15.194      0.000    2.33e+04    3.03e+04\n",
            "x[5]        1.757e+04   1913.773      9.183      0.000    1.38e+04    2.13e+04\n",
            "x[6]        7.828e+04   1404.957     55.720      0.000    7.55e+04     8.1e+04\n",
            "x[7]       -1748.3986     44.618    -39.186      0.000   -1835.854   -1660.943\n",
            "x[8]           7.8743      2.930      2.687      0.007       2.131      13.618\n",
            "x[9]          29.2001      0.911     32.048      0.000      27.414      30.986\n",
            "x[10]         61.6421      2.119     29.084      0.000      57.488      65.796\n",
            "==============================================================================\n",
            "\n",
            "The condition number is large, 2.06e+08. This might indicate that there are\n",
            "strong multicollinearity or other numerical problems.\n"
          ],
          "name": "stdout"
        }
      ]
    },
    {
      "cell_type": "markdown",
      "metadata": {
        "id": "FPOYOAiw9VQv"
      },
      "source": [
        "# Conclusion"
      ]
    },
    {
      "cell_type": "markdown",
      "metadata": {
        "id": "egh2VCYW9bVU"
      },
      "source": [
        "My recommendation would be to use the elastic net model as it has the lowest rmse of 218994.4622333879.This means its the best performing as compared to the other models\n"
      ]
    }
  ]
}